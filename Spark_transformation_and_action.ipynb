{
  "nbformat": 4,
  "nbformat_minor": 0,
  "metadata": {
    "colab": {
      "name": "Spark transformation and action.ipynb",
      "provenance": [],
      "collapsed_sections": [],
      "authorship_tag": "ABX9TyP38xTBIEows73WdwY0thCA",
      "include_colab_link": true
    },
    "kernelspec": {
      "name": "python3",
      "display_name": "Python 3"
    }
  },
  "cells": [
    {
      "cell_type": "markdown",
      "metadata": {
        "id": "view-in-github",
        "colab_type": "text"
      },
      "source": [
        "<a href=\"https://colab.research.google.com/github/parthkhambhayta0705/Demos/blob/master/Spark_transformation_and_action.ipynb\" target=\"_parent\"><img src=\"https://colab.research.google.com/assets/colab-badge.svg\" alt=\"Open In Colab\"/></a>"
      ]
    },
    {
      "cell_type": "code",
      "metadata": {
        "id": "NlMoOma2CTmq",
        "colab_type": "code",
        "colab": {}
      },
      "source": [
        ""
      ],
      "execution_count": null,
      "outputs": []
    },
    {
      "cell_type": "code",
      "metadata": {
        "id": "E6NkdSOimwmM",
        "colab_type": "code",
        "colab": {}
      },
      "source": [
        ""
      ],
      "execution_count": null,
      "outputs": []
    },
    {
      "cell_type": "code",
      "metadata": {
        "id": "4jH9EE5KlAVP",
        "colab_type": "code",
        "colab": {}
      },
      "source": [
        "!apt-get install openjdk-8-jdk-headless -qq > /dev/null\n",
        "#!wget -q http://www-eu.apache.org/dist/spark/spark-2.4.5/spark-2.4.5-bin-hadoop2.7.tgz\n",
        "!wget -q https://downloads.apache.org/spark/spark-3.0.0/spark-3.0.0-bin-hadoop2.7.tgz\n",
        "!tar xf spark-3.0.0-bin-hadoop2.7.tgz\n",
        "!pip install -q findspark"
      ],
      "execution_count": 4,
      "outputs": []
    },
    {
      "cell_type": "code",
      "metadata": {
        "id": "fbp-c6qinNFX",
        "colab_type": "code",
        "colab": {}
      },
      "source": [
        "import os\n",
        "os.environ[\"JAVA_HOME\"] = \"/usr/lib/jvm/java-8-openjdk-amd64\"\n",
        "os.environ[\"SPARK_HOME\"] = \"/content/spark-3.0.0-bin-hadoop2.7\""
      ],
      "execution_count": 5,
      "outputs": []
    },
    {
      "cell_type": "code",
      "metadata": {
        "id": "9_Uz1NL4gHFx",
        "colab_type": "code",
        "colab": {}
      },
      "source": [
        "import findspark\n",
        "findspark.init()\n",
        "from pyspark.sql import SparkSession\n",
        "spark = SparkSession.builder.master(\"local[*]\").getOrCreate()"
      ],
      "execution_count": 6,
      "outputs": []
    },
    {
      "cell_type": "code",
      "metadata": {
        "id": "rZnWNMQzniZe",
        "colab_type": "code",
        "colab": {}
      },
      "source": [
        "import sys,tempfile,urllib\n",
        "from pyspark.sql.functions import *"
      ],
      "execution_count": 7,
      "outputs": []
    },
    {
      "cell_type": "code",
      "metadata": {
        "id": "ZMDk0t3Bn5Gz",
        "colab_type": "code",
        "colab": {}
      },
      "source": [
        "BASE_DIR='/tmp'\n",
        "CORONA_DATA_FILE = os.path.join(BASE_DIR,'corona_data.csv')"
      ],
      "execution_count": 8,
      "outputs": []
    },
    {
      "cell_type": "code",
      "metadata": {
        "id": "iPXlzAv2oYWm",
        "colab_type": "code",
        "colab": {}
      },
      "source": [
        "corona_data = urllib.request.urlretrieve('https://raw.githubusercontent.com/srivatsan88/YouTubeLI/master/dataset/coronavirus/corona_dataset_latest.csv',CORONA_DATA_FILE)"
      ],
      "execution_count": 22,
      "outputs": []
    },
    {
      "cell_type": "code",
      "metadata": {
        "id": "uSE9kZSIpKYH",
        "colab_type": "code",
        "colab": {}
      },
      "source": [
        "BASE_DIR='/tmp'\n",
        "TWITTER_DATA_FILE = os.path.join(BASE_DIR,'twitter_data.csv')"
      ],
      "execution_count": 23,
      "outputs": []
    },
    {
      "cell_type": "code",
      "metadata": {
        "id": "8ty2e8gEpRP7",
        "colab_type": "code",
        "colab": {}
      },
      "source": [
        "twiiter_data = urllib.request.urlretrieve('https://raw.githubusercontent.com/srivatsan88/YouTubeLI/master/dataset/coronavirus/tweets.csv',TWITTER_DATA_FILE)"
      ],
      "execution_count": 25,
      "outputs": []
    },
    {
      "cell_type": "code",
      "metadata": {
        "id": "IPg6HyYzpq57",
        "colab_type": "code",
        "colab": {
          "base_uri": "https://localhost:8080/",
          "height": 153
        },
        "outputId": "bb2b80e5-8e68-4186-b091-55d7989e5b8e"
      },
      "source": [
        "!ls /tmp"
      ],
      "execution_count": 26,
      "outputs": [
        {
          "output_type": "stream",
          "text": [
            "blockmgr-efe149e5-1d34-4215-9730-4c2d038885f8\n",
            "corona_data.csv\n",
            "hsperfdata_root\n",
            "liblz4-java-6170816833513858442.so\n",
            "liblz4-java-6170816833513858442.so.lck\n",
            "spark-6043fd8f-f2d3-4473-962c-0334da916c54\n",
            "spark-ca36cb38-5595-4df5-b0ef-a722142ae753\n",
            "twitter_data.csv\n"
          ],
          "name": "stdout"
        }
      ]
    },
    {
      "cell_type": "code",
      "metadata": {
        "id": "3VSdyyYzp7cf",
        "colab_type": "code",
        "colab": {}
      },
      "source": [
        "corona_df = spark.read.csv(\"/tmp/corona_data.csv\", header=True, inferSchema=True)"
      ],
      "execution_count": 27,
      "outputs": []
    },
    {
      "cell_type": "code",
      "metadata": {
        "id": "1OQ4nNaasbGW",
        "colab_type": "code",
        "colab": {
          "base_uri": "https://localhost:8080/",
          "height": 459
        },
        "outputId": "21b84190-057c-4934-d71c-1caceaf77fbf"
      },
      "source": [
        "corona_df.show()"
      ],
      "execution_count": 28,
      "outputs": [
        {
          "output_type": "stream",
          "text": [
            "+---+----------------+--------------------+--------+---------+----------+---------+-----+---------+--------------------+----+\n",
            "|_c0|           State|             Country|     Lat|     Long|      Date|Confirmed|Death|Recovered|       state_cleaned|City|\n",
            "+---+----------------+--------------------+--------+---------+----------+---------+-----+---------+--------------------+----+\n",
            "|  0|            null|            Thailand|    15.0|    101.0|2020-01-22|        2|    0|        0|             Bangkok|null|\n",
            "|  1|            null|               Japan|    36.0|    138.0|2020-01-22|        2|    0|        0|             Hiraide|null|\n",
            "|  2|            null|           Singapore|  1.2833| 103.8333|2020-01-22|        0|    0|        0|           Singapore|null|\n",
            "|  3|            null|               Nepal| 28.1667|    84.25|2020-01-22|        0|    0|        0|           Kathmandu|null|\n",
            "|  4|            null|            Malaysia|     2.5|    112.5|2020-01-22|        0|    0|        0|             Sarawak|null|\n",
            "|  5|British Columbia|              Canada| 49.2827|-123.1207|2020-01-22|        0|    0|        0|    British Columbia|null|\n",
            "|  6| New South Wales|           Australia|-33.8688| 151.2093|2020-01-22|        0|    0|        0|     New South Wales|null|\n",
            "|  7|        Victoria|           Australia|-37.8136| 144.9631|2020-01-22|        0|    0|        0|            Victoria|null|\n",
            "|  8|      Queensland|           Australia|-28.0167|    153.4|2020-01-22|        0|    0|        0|          Queensland|null|\n",
            "|  9|            null|            Cambodia|   11.55| 104.9167|2020-01-22|        0|    0|        0|          Phnom Penh|null|\n",
            "| 10|            null|           Sri Lanka|     7.0|     81.0|2020-01-22|        0|    0|        0|Sri Jayawardenapu...|null|\n",
            "| 11|            null|             Germany|    51.0|      9.0|2020-01-22|        0|    0|        0|              Berlin|null|\n",
            "| 12|            null|             Finland|    64.0|     26.0|2020-01-22|        0|    0|        0|            Helsinki|null|\n",
            "| 13|            null|United Arab Emirates|    24.0|     54.0|2020-01-22|        0|    0|        0|           Abu Dhabi|null|\n",
            "| 14|            null|         Philippines|    13.0|    122.0|2020-01-22|        0|    0|        0|              Manila|null|\n",
            "| 15|            null|               India|    21.0|     78.0|2020-01-22|        0|    0|        0|           New Delhi|null|\n",
            "| 16|            null|               Italy|    43.0|     12.0|2020-01-22|        0|    0|        0|                Rome|null|\n",
            "| 17|            null|              Sweden|    63.0|     16.0|2020-01-22|        0|    0|        0|           Stockholm|null|\n",
            "| 18|            null|               Spain|    40.0|     -4.0|2020-01-22|        0|    0|        0|              Toledo|null|\n",
            "| 19| South Australia|           Australia|-34.9285| 138.6007|2020-01-22|        0|    0|        0|     South Australia|null|\n",
            "+---+----------------+--------------------+--------+---------+----------+---------+-----+---------+--------------------+----+\n",
            "only showing top 20 rows\n",
            "\n"
          ],
          "name": "stdout"
        }
      ]
    },
    {
      "cell_type": "code",
      "metadata": {
        "id": "Sa3koNCoye84",
        "colab_type": "code",
        "colab": {
          "base_uri": "https://localhost:8080/",
          "height": 34
        },
        "outputId": "427f3967-0afb-4ed7-a452-6867306f71f8"
      },
      "source": [
        "corona_df.count()"
      ],
      "execution_count": 29,
      "outputs": [
        {
          "output_type": "execute_result",
          "data": {
            "text/plain": [
              "28143"
            ]
          },
          "metadata": {
            "tags": []
          },
          "execution_count": 29
        }
      ]
    },
    {
      "cell_type": "code",
      "metadata": {
        "id": "FrXFqsao1ufP",
        "colab_type": "code",
        "colab": {}
      },
      "source": [
        "twitter_df = spark.read.csv(\"/tmp/twitter_data.csv\", header=True, inferSchema=True)"
      ],
      "execution_count": 30,
      "outputs": []
    },
    {
      "cell_type": "code",
      "metadata": {
        "id": "DC7phVqG14BO",
        "colab_type": "code",
        "colab": {
          "base_uri": "https://localhost:8080/",
          "height": 459
        },
        "outputId": "5a454229-9069-4f2c-95a0-536d4c00d917"
      },
      "source": [
        "twitter_df.show()"
      ],
      "execution_count": 31,
      "outputs": [
        {
          "output_type": "stream",
          "text": [
            "+---+----+--------------------+--------------------+--------------------+--------------------+--------------------+--------------------+\n",
            "|_c0| geo|                text|                user|            location|            entities|           sentiment|             country|\n",
            "+---+----+--------------------+--------------------+--------------------+--------------------+--------------------+--------------------+\n",
            "|  0|null|What is God sayin...|          petodinice|               Lagos|[('about #', 'CAR...|{'neg': 0.0, 'neu...|             Nigeria|\n",
            "|  1|null|\"BREAKING: \"\"this...| but i took the t...|                -… \"|     JerryfranksonJF|      Abuja, Nigeria|\"[(\"\"Arsenal's Mi...|\n",
            "|  2|null| #Coronavirus tes...|              cek422|   Pennsylvania, USA|                  []|{'neg': 0.173, 'n...|                 USA|\n",
            "|  3|null| Get ready for ma...|        InfectiousDz|                 NYC|[('World', 'ORG')...|{'neg': 0.085, 'n...|                 USA|\n",
            "|  4|null| The #coronavirus...|          vic_gibson|                null|                ['']|{'neg': 0.0, 'neu...|                null|\n",
            "|  5|null| COVID-19 update ...|      StewartNgilana|Durban | Port Eli...|[('Italy', 'GPE')...|{'neg': 0.178, 'n...|                 USA|\n",
            "|  6|null| It’s painful to ...|           BWheatnyc|             Florida|                  []|{'neg': 0.098, 'n...|                 USA|\n",
            "|  7|null| 📽️Friends, I wi...|             LorseaR|New South Wales, ...|[('Twitter', 'GPE...|{'neg': 0.123, 'n...|           Australia|\n",
            "|  8|null| Questions about ...|         straightj23|        Columbus, OH|[('NAfME', 'CARDI...|{'neg': 0.0, 'neu...|                 USA|\n",
            "|  9|null|How they’re deali...|       _______coolio| South East, England|['', ('Portsmouth...|{'neg': 0.126, 'n...|                  UK|\n",
            "| 10|null| BREAKING: Democr...|      champagneaylin|                null|[('Democrats', 'N...|{'neg': 0.221, 'n...|                null|\n",
            "| 11|null| “If we close dow...|       YorkLawLondon|                  UK|                  []|{'neg': 0.0, 'neu...|      United Kingdom|\n",
            "| 12|null| I pity the poor ...|      BeesonMargaret|                null|                ['']|{'neg': 0.227, 'n...|                null|\n",
            "| 13|null| We’re the heck w...|      harrytiffanyiv| Fort Washington, PA|[('the last 6 wee...|{'neg': 0.0, 'neu...|                 USA|\n",
            "| 14|null| I don't think sh...|         grammyheath|                null|[('Joy', 'PERSON'...|{'neg': 0.0, 'neu...|                null|\n",
            "| 15|null| Well written, so...|      barbara_ellena|Christchurch City...|                  []|{'neg': 0.0, 'neu...|         New Zealand|\n",
            "| 16|null| 1/2 CDC Director...|               fatal|                 USA|[('1/2', 'CARDINA...|{'neg': 0.139, 'n...|       United States|\n",
            "| 17|null| In all seriousne...|          pwjkmiller|                null|                ['']|{'neg': 0.218, 'n...|                null|\n",
            "| 18|null| Wash your hands....|        Mrrandy123RP|          Texas, USA|            ['', '']|{'neg': 0.0, 'neu...|                 USA|\n",
            "| 19|null| #CoronaVirusCana...|           aliensky0|           Worldwide|['', ('CoronaViru...|{'neg': 0.0, 'neu...|                 USA|\n",
            "+---+----+--------------------+--------------------+--------------------+--------------------+--------------------+--------------------+\n",
            "only showing top 20 rows\n",
            "\n"
          ],
          "name": "stdout"
        }
      ]
    },
    {
      "cell_type": "code",
      "metadata": {
        "id": "2nIn_hEY2KI-",
        "colab_type": "code",
        "colab": {
          "base_uri": "https://localhost:8080/",
          "height": 34
        },
        "outputId": "a049417e-438e-4210-9cb5-27dd88859ab5"
      },
      "source": [
        "twitter_df.count()"
      ],
      "execution_count": 33,
      "outputs": [
        {
          "output_type": "execute_result",
          "data": {
            "text/plain": [
              "1000"
            ]
          },
          "metadata": {
            "tags": []
          },
          "execution_count": 33
        }
      ]
    },
    {
      "cell_type": "code",
      "metadata": {
        "id": "lfOCJhIY2UE6",
        "colab_type": "code",
        "colab": {
          "base_uri": "https://localhost:8080/",
          "height": 34
        },
        "outputId": "f83a8ac2-154f-4d1f-9581-e536f0f8d9bd"
      },
      "source": [
        "twitter_df.filter(\"country='USA'\")"
      ],
      "execution_count": 34,
      "outputs": [
        {
          "output_type": "execute_result",
          "data": {
            "text/plain": [
              "DataFrame[_c0: int, geo: string, text: string, user: string, location: string, entities: string, sentiment: string, country: string]"
            ]
          },
          "metadata": {
            "tags": []
          },
          "execution_count": 34
        }
      ]
    },
    {
      "cell_type": "code",
      "metadata": {
        "id": "2S_UGLma2WMN",
        "colab_type": "code",
        "colab": {
          "base_uri": "https://localhost:8080/",
          "height": 459
        },
        "outputId": "30c65561-fe6b-4c73-eb98-62875d854908"
      },
      "source": [
        "twitter_df.filter(\"country='USA'\").show()"
      ],
      "execution_count": 35,
      "outputs": [
        {
          "output_type": "stream",
          "text": [
            "+---+----+--------------------+---------------+--------------------+--------------------+--------------------+-------+\n",
            "|_c0| geo|                text|           user|            location|            entities|           sentiment|country|\n",
            "+---+----+--------------------+---------------+--------------------+--------------------+--------------------+-------+\n",
            "|  2|null| #Coronavirus tes...|         cek422|   Pennsylvania, USA|                  []|{'neg': 0.173, 'n...|    USA|\n",
            "|  3|null| Get ready for ma...|   InfectiousDz|                 NYC|[('World', 'ORG')...|{'neg': 0.085, 'n...|    USA|\n",
            "|  5|null| COVID-19 update ...| StewartNgilana|Durban | Port Eli...|[('Italy', 'GPE')...|{'neg': 0.178, 'n...|    USA|\n",
            "|  6|null| It’s painful to ...|      BWheatnyc|             Florida|                  []|{'neg': 0.098, 'n...|    USA|\n",
            "|  8|null| Questions about ...|    straightj23|        Columbus, OH|[('NAfME', 'CARDI...|{'neg': 0.0, 'neu...|    USA|\n",
            "| 13|null| We’re the heck w...| harrytiffanyiv| Fort Washington, PA|[('the last 6 wee...|{'neg': 0.0, 'neu...|    USA|\n",
            "| 18|null| Wash your hands....|   Mrrandy123RP|          Texas, USA|            ['', '']|{'neg': 0.0, 'neu...|    USA|\n",
            "| 19|null| #CoronaVirusCana...|      aliensky0|           Worldwide|['', ('CoronaViru...|{'neg': 0.0, 'neu...|    USA|\n",
            "| 24|null| Dr. Dena Grayson...|billymocolorad2|         Denver area|[('Dena Grayson',...|{'neg': 0.0, 'neu...|    USA|\n",
            "| 29|null| #BREAKING Univer...|  _pulido_nenaa|         Fontana, CA|['', ('BREAKING U...|{'neg': 0.0, 'neu...|    USA|\n",
            "| 31|null| I ordered Alex J...|       rcgillan|       New York, USA|[('Alex Jones', '...|{'neg': 0.109, 'n...|    USA|\n",
            "| 32|null| #CoronavirusExpe...|        AD1968F|California / Florida|['', ('Coronaviru...|{'neg': 0.0, 'neu...|    USA|\n",
            "| 34|null| There is no obje...|       SFAuGrrl|   San Francisco, CA|['', ('FamiliesFi...|{'neg': 0.224, 'n...|    USA|\n",
            "| 36|null| Before #coronavi...|   Frankapistan|       Nashville, TN|[('China', 'GPE')...|{'neg': 0.144, 'n...|    USA|\n",
            "| 40|null|  When it's actua...|      Happyjam5|     Los Angeles, Ca|[('GOP', 'ORG'), ...|{'neg': 0.215, 'n...|    USA|\n",
            "| 41|null|#Coronavirus in #...|   GregoryGLake|              Global|['', ('5', 'CARDI...|{'neg': 0.318, 'n...|    USA|\n",
            "| 49|null| This week we are...|  JamesWithers3|  New York, New York|[('This week', 'D...|{'neg': 0.0, 'neu...|    USA|\n",
            "| 50|null| Trump is now doi...|      NewNewsey|          everywhere|[('Trump', 'ORG')...|{'neg': 0.0, 'neu...|    USA|\n",
            "| 55|null| The last patient...|   Khattarperla|          Highgarden|  [('Wuhan', 'GPE')]|{'neg': 0.0, 'neu...|    USA|\n",
            "| 56|null|...Hope y’all sta...|  Brandon4Brody|          Pueblo, CO|[('CDC', 'ORG'), ...|{'neg': 0.0, 'neu...|    USA|\n",
            "+---+----+--------------------+---------------+--------------------+--------------------+--------------------+-------+\n",
            "only showing top 20 rows\n",
            "\n"
          ],
          "name": "stdout"
        }
      ]
    },
    {
      "cell_type": "code",
      "metadata": {
        "id": "Lf-a6QL03PJr",
        "colab_type": "code",
        "colab": {
          "base_uri": "https://localhost:8080/",
          "height": 459
        },
        "outputId": "18d8e1d9-e16f-4a41-8dee-6d47ba152d50"
      },
      "source": [
        "twitter_df.filter(\"country='USA' and location like 'New%'\").show()"
      ],
      "execution_count": 37,
      "outputs": [
        {
          "output_type": "stream",
          "text": [
            "+---+----+--------------------+---------------+------------------+--------------------+--------------------+-------+\n",
            "|_c0| geo|                text|           user|          location|            entities|           sentiment|country|\n",
            "+---+----+--------------------+---------------+------------------+--------------------+--------------------+-------+\n",
            "| 31|null| I ordered Alex J...|       rcgillan|     New York, USA|[('Alex Jones', '...|{'neg': 0.109, 'n...|    USA|\n",
            "| 49|null| This week we are...|  JamesWithers3|New York, New York|[('This week', 'D...|{'neg': 0.0, 'neu...|    USA|\n",
            "|228|null|This is a very co...|baskingntheGlow|     New York City|[('hourly', 'TIME')]|{'neg': 0.12, 'ne...|    USA|\n",
            "|238|null|I’m reposting thi...|   Veronicaromm|   New Jersey, USA|[('English', 'LAN...|{'neg': 0.0, 'neu...|    USA|\n",
            "|261|null|Too early ...?  #...|      HJeppesen|      New York, NY|                ['']|{'neg': 0.0, 'neu...|    USA|\n",
            "|275|null|  The Republican ...|  GenetBataiile|New Hampshire, USA|[('Republican', '...|{'neg': 0.0, 'neu...|    USA|\n",
            "|369|null| I still look to ...|   SusanSeaside|       New England|[('SouthKorea', '...|{'neg': 0.0, 'neu...|    USA|\n",
            "|438|null|Can we call the #...|       nilchaks|   New Jersey, USA|                ['']|{'neg': 0.194, 'n...|    USA|\n",
            "|458|null| New deadly #coro...| ssummersabrina|   New Jersey, USA|                ['']|{'neg': 0.236, 'n...|    USA|\n",
            "|471|null|What the Caged Bi...|    AaronNetsky|      New York, NY|                  []|{'neg': 0.0, 'neu...|    USA|\n",
            "|553|null|Me: Tired of hear...|     AmandaB_B8|New Hampshire, USA|['', ('tonight', ...|{'neg': 0.252, 'n...|    USA|\n",
            "|612|null| New deadly #coro...|       klazimi1|     New York, USA|                ['']|{'neg': 0.236, 'n...|    USA|\n",
            "|622|null|Can someone pleas...|         pitaru|          New York|                ['']|{'neg': 0.168, 'n...|    USA|\n",
            "|664|null|Marriage in 2020 ...|           sciz|      New York, NY|[('2020', 'DATE')...|{'neg': 0.111, 'n...|    USA|\n",
            "|679|null|ALL MY MONEY ON E...|  misterauyeung|      New York, NY|[('ETF', 'ORG'), '']|{'neg': 0.148, 'n...|    USA|\n",
            "|724|null|#UniversalStudios...| cosmicbooknews|     New York, USA|['', ('UniversalS...|{'neg': 0.0, 'neu...|    USA|\n",
            "|850|null| There is no obje...|         rm1268|     New York, USA|['', ('FamiliesFi...|{'neg': 0.224, 'n...|    USA|\n",
            "|857|null| #Coronavirus Isr...| itsbenjamindoe|      New York, NY|['', ('Coronaviru...|{'neg': 0.0, 'neu...|    USA|\n",
            "|866|null| What a lousy day...|        insur58|        New Jersey|[('USA', 'GPE'), ...|{'neg': 0.085, 'n...|    USA|\n",
            "|919|null|\" #NEW \"\"Presiden...|      smcapgreg|   New Jersey, USA|[('NEW', 'ORG'), ...|{'neg': 0.167, 'n...|    USA|\n",
            "+---+----+--------------------+---------------+------------------+--------------------+--------------------+-------+\n",
            "only showing top 20 rows\n",
            "\n"
          ],
          "name": "stdout"
        }
      ]
    },
    {
      "cell_type": "code",
      "metadata": {
        "id": "ItZUipd53o05",
        "colab_type": "code",
        "colab": {}
      },
      "source": [
        "tw_filter_df = twitter_df.filter(\"location = 'USA'\")"
      ],
      "execution_count": 38,
      "outputs": []
    },
    {
      "cell_type": "code",
      "metadata": {
        "id": "ITlclXI1399l",
        "colab_type": "code",
        "colab": {
          "base_uri": "https://localhost:8080/",
          "height": 139
        },
        "outputId": "2436b885-8239-469e-a0b9-f565350b4244"
      },
      "source": [
        "tw_filter_df.explain()"
      ],
      "execution_count": 39,
      "outputs": [
        {
          "output_type": "stream",
          "text": [
            "== Physical Plan ==\n",
            "*(1) Project [_c0#156, geo#157, text#158, user#159, location#160, entities#161, sentiment#162, country#163]\n",
            "+- *(1) Filter (isnotnull(location#160) AND (location#160 = USA))\n",
            "   +- FileScan csv [_c0#156,geo#157,text#158,user#159,location#160,entities#161,sentiment#162,country#163] Batched: false, DataFilters: [isnotnull(location#160), (location#160 = USA)], Format: CSV, Location: InMemoryFileIndex[file:/tmp/twitter_data.csv], PartitionFilters: [], PushedFilters: [IsNotNull(location), EqualTo(location,USA)], ReadSchema: struct<_c0:int,geo:string,text:string,user:string,location:string,entities:string,sentiment:strin...\n",
            "\n",
            "\n"
          ],
          "name": "stdout"
        }
      ]
    },
    {
      "cell_type": "code",
      "metadata": {
        "id": "2kehJTUG4UGe",
        "colab_type": "code",
        "colab": {}
      },
      "source": [
        "tw_filter_df = twitter_df.filter(\"country='USA' and location like '%New%'\")"
      ],
      "execution_count": 42,
      "outputs": []
    },
    {
      "cell_type": "code",
      "metadata": {
        "id": "MUASn9sX5Yk5",
        "colab_type": "code",
        "colab": {
          "base_uri": "https://localhost:8080/",
          "height": 139
        },
        "outputId": "af623cc0-4e08-4458-a5fc-bd1e4e62ee66"
      },
      "source": [
        "tw_filter_df.explain()"
      ],
      "execution_count": 43,
      "outputs": [
        {
          "output_type": "stream",
          "text": [
            "== Physical Plan ==\n",
            "*(1) Project [_c0#156, geo#157, text#158, user#159, location#160, entities#161, sentiment#162, country#163]\n",
            "+- *(1) Filter (((isnotnull(country#163) AND isnotnull(location#160)) AND (country#163 = USA)) AND Contains(location#160, New))\n",
            "   +- FileScan csv [_c0#156,geo#157,text#158,user#159,location#160,entities#161,sentiment#162,country#163] Batched: false, DataFilters: [isnotnull(country#163), isnotnull(location#160), (country#163 = USA), Contains(location#160, New)], Format: CSV, Location: InMemoryFileIndex[file:/tmp/twitter_data.csv], PartitionFilters: [], PushedFilters: [IsNotNull(country), IsNotNull(location), EqualTo(country,USA), StringContains(location,New)], ReadSchema: struct<_c0:int,geo:string,text:string,user:string,location:string,entities:string,sentiment:strin...\n",
            "\n",
            "\n"
          ],
          "name": "stdout"
        }
      ]
    },
    {
      "cell_type": "code",
      "metadata": {
        "id": "X_p71A9e5pxX",
        "colab_type": "code",
        "colab": {
          "base_uri": "https://localhost:8080/",
          "height": 204
        },
        "outputId": "9a54a2ef-6118-43bc-a35c-7b57da0f8665"
      },
      "source": [
        "tw_filter_df.show(5)"
      ],
      "execution_count": 44,
      "outputs": [
        {
          "output_type": "stream",
          "text": [
            "+---+----+--------------------+---------------+--------------------+--------------------+--------------------+-------+\n",
            "|_c0| geo|                text|           user|            location|            entities|           sentiment|country|\n",
            "+---+----+--------------------+---------------+--------------------+--------------------+--------------------+-------+\n",
            "| 31|null| I ordered Alex J...|       rcgillan|       New York, USA|[('Alex Jones', '...|{'neg': 0.109, 'n...|    USA|\n",
            "| 49|null| This week we are...|  JamesWithers3|  New York, New York|[('This week', 'D...|{'neg': 0.0, 'neu...|    USA|\n",
            "| 62|null|Fear will kill #C...| RobertPPurcell|norther New Jerse...|                ['']|{'neg': 0.798, 'n...|    USA|\n",
            "|228|null|This is a very co...|baskingntheGlow|       New York City|[('hourly', 'TIME')]|{'neg': 0.12, 'ne...|    USA|\n",
            "|238|null|I’m reposting thi...|   Veronicaromm|     New Jersey, USA|[('English', 'LAN...|{'neg': 0.0, 'neu...|    USA|\n",
            "+---+----+--------------------+---------------+--------------------+--------------------+--------------------+-------+\n",
            "only showing top 5 rows\n",
            "\n"
          ],
          "name": "stdout"
        }
      ]
    },
    {
      "cell_type": "code",
      "metadata": {
        "id": "3_x2x7H15x7L",
        "colab_type": "code",
        "colab": {}
      },
      "source": [
        "tw_filter_df =twitter_df.filter(col('location').startswith('N'))"
      ],
      "execution_count": 46,
      "outputs": []
    },
    {
      "cell_type": "code",
      "metadata": {
        "id": "wJLU0wcn96nY",
        "colab_type": "code",
        "colab": {
          "base_uri": "https://localhost:8080/",
          "height": 139
        },
        "outputId": "308845e4-2dff-491e-9a40-da3fcefac59d"
      },
      "source": [
        "tw_filter_df.explain()"
      ],
      "execution_count": 47,
      "outputs": [
        {
          "output_type": "stream",
          "text": [
            "== Physical Plan ==\n",
            "*(1) Project [_c0#156, geo#157, text#158, user#159, location#160, entities#161, sentiment#162, country#163]\n",
            "+- *(1) Filter (isnotnull(location#160) AND StartsWith(location#160, N))\n",
            "   +- FileScan csv [_c0#156,geo#157,text#158,user#159,location#160,entities#161,sentiment#162,country#163] Batched: false, DataFilters: [isnotnull(location#160), StartsWith(location#160, N)], Format: CSV, Location: InMemoryFileIndex[file:/tmp/twitter_data.csv], PartitionFilters: [], PushedFilters: [IsNotNull(location), StringStartsWith(location,N)], ReadSchema: struct<_c0:int,geo:string,text:string,user:string,location:string,entities:string,sentiment:strin...\n",
            "\n",
            "\n"
          ],
          "name": "stdout"
        }
      ]
    },
    {
      "cell_type": "code",
      "metadata": {
        "id": "r5JQukvi-Efv",
        "colab_type": "code",
        "colab": {
          "base_uri": "https://localhost:8080/",
          "height": 459
        },
        "outputId": "a99bd396-8d8f-4dd4-b8dd-9e19c70eee2f"
      },
      "source": [
        "tw_filter_df.show()"
      ],
      "execution_count": 48,
      "outputs": [
        {
          "output_type": "stream",
          "text": [
            "+---+----+--------------------+---------------+--------------------+--------------------+--------------------+-------------+\n",
            "|_c0| geo|                text|           user|            location|            entities|           sentiment|      country|\n",
            "+---+----+--------------------+---------------+--------------------+--------------------+--------------------+-------------+\n",
            "|  3|null| Get ready for ma...|   InfectiousDz|                 NYC|[('World', 'ORG')...|{'neg': 0.085, 'n...|          USA|\n",
            "|  7|null| 📽️Friends, I wi...|        LorseaR|New South Wales, ...|[('Twitter', 'GPE...|{'neg': 0.123, 'n...|    Australia|\n",
            "| 31|null| I ordered Alex J...|       rcgillan|       New York, USA|[('Alex Jones', '...|{'neg': 0.109, 'n...|          USA|\n",
            "| 36|null| Before #coronavi...|   Frankapistan|       Nashville, TN|[('China', 'GPE')...|{'neg': 0.144, 'n...|          USA|\n",
            "| 49|null| This week we are...|  JamesWithers3|  New York, New York|[('This week', 'D...|{'neg': 0.0, 'neu...|          USA|\n",
            "| 66|null| I am very surpri...|MariosTsoutsouk| Nottingham, England|[('UK', 'GPE'), (...|{'neg': 0.0, 'neu...|           UK|\n",
            "| 79|null| Mr. Jones has be...|       star1965|                 NYC|[('Jones', 'PERSO...|{'neg': 0.0, 'neu...|          USA|\n",
            "|146|null| . launches rapid...|   JessPerry_NJ|                  NJ|['', ('Center for...|{'neg': 0.0, 'neu...|          USA|\n",
            "|163|null| WATCH: The Serbi...|NTexasRealtor4u|         North Texas|[('Serbian', 'NOR...|{'neg': 0.161, 'n...|          USA|\n",
            "|167|null|I dont think we a...|   PitLanePhoto|   Nantwich, England|[('Motorsport', '...|{'neg': 0.0, 'neu...|           UK|\n",
            "|168|null|But seriously I N...|    kuamiufresh|             Nigeria|[('China', 'GPE')...|{'neg': 0.09, 'ne...|      Nigeria|\n",
            "|198|null| This is how the ...|       WINTUR78|           New Delhi|[('Islamophobia',...|{'neg': 0.0, 'neu...|        India|\n",
            "|228|null|This is a very co...|baskingntheGlow|       New York City|[('hourly', 'TIME')]|{'neg': 0.12, 'ne...|          USA|\n",
            "|238|null|I’m reposting thi...|   Veronicaromm|     New Jersey, USA|[('English', 'LAN...|{'neg': 0.0, 'neu...|          USA|\n",
            "|250|null|  The Republican ...|CoronaVirusCall|       North America|[('Republican', '...|{'neg': 0.0, 'neu...|North America|\n",
            "|259|null| New deadly #coro...|TorqueyLunatico|     Not outer space|                ['']|{'neg': 0.236, 'n...|United States|\n",
            "|261|null|Too early ...?  #...|      HJeppesen|        New York, NY|                ['']|{'neg': 0.0, 'neu...|          USA|\n",
            "|275|null|  The Republican ...|  GenetBataiile|  New Hampshire, USA|[('Republican', '...|{'neg': 0.0, 'neu...|          USA|\n",
            "|284|null|Last beer tonight...| organictech551| Northern hemisphere|[('tonight', 'TIM...|{'neg': 0.0, 'neu...|          USA|\n",
            "|285|null| A question for y...| GlynnAtkinson1| North East, England|[('Boris Johnson'...|{'neg': 0.104, 'n...|        Error|\n",
            "+---+----+--------------------+---------------+--------------------+--------------------+--------------------+-------------+\n",
            "only showing top 20 rows\n",
            "\n"
          ],
          "name": "stdout"
        }
      ]
    },
    {
      "cell_type": "code",
      "metadata": {
        "id": "ltUABbZB-E-6",
        "colab_type": "code",
        "colab": {
          "base_uri": "https://localhost:8080/",
          "height": 34
        },
        "outputId": "4ce21603-cdf7-46d6-b729-d38332678bb5"
      },
      "source": [
        "twitter_df"
      ],
      "execution_count": 49,
      "outputs": [
        {
          "output_type": "execute_result",
          "data": {
            "text/plain": [
              "DataFrame[_c0: int, geo: string, text: string, user: string, location: string, entities: string, sentiment: string, country: string]"
            ]
          },
          "metadata": {
            "tags": []
          },
          "execution_count": 49
        }
      ]
    },
    {
      "cell_type": "code",
      "metadata": {
        "id": "lc2WZsC4-FRk",
        "colab_type": "code",
        "colab": {
          "base_uri": "https://localhost:8080/",
          "height": 54
        },
        "outputId": "b9fe160c-bd9d-426f-9bae-38b19f005a90"
      },
      "source": [
        "twitter_df.first()"
      ],
      "execution_count": 50,
      "outputs": [
        {
          "output_type": "execute_result",
          "data": {
            "text/plain": [
              "Row(_c0=0, geo=None, text='What is God saying to us about #coronavirus ?', user='petodinice', location='Lagos', entities=\"[('about #', 'CARDINAL')]\", sentiment=\"{'neg': 0.0, 'neu': 0.769, 'pos': 0.231, 'compound': 0.2732}\", country='Nigeria')"
            ]
          },
          "metadata": {
            "tags": []
          },
          "execution_count": 50
        }
      ]
    },
    {
      "cell_type": "code",
      "metadata": {
        "id": "tAUeTYPh-Ffi",
        "colab_type": "code",
        "colab": {
          "base_uri": "https://localhost:8080/",
          "height": 122
        },
        "outputId": "781d750e-cd78-490b-8097-53e82c4113fc"
      },
      "source": [
        "twitter_df.take(5)"
      ],
      "execution_count": 51,
      "outputs": [
        {
          "output_type": "execute_result",
          "data": {
            "text/plain": [
              "[Row(_c0=0, geo=None, text='What is God saying to us about #coronavirus ?', user='petodinice', location='Lagos', entities=\"[('about #', 'CARDINAL')]\", sentiment=\"{'neg': 0.0, 'neu': 0.769, 'pos': 0.231, 'compound': 0.2732}\", country='Nigeria'),\n",
              " Row(_c0=1, geo=None, text='\"BREAKING: \"\"this is disappointing', user=' but i took the test\"\". Arsenal\\'s Mikel Arteta tests positive for #coronavirus', location='  -… \"', entities='JerryfranksonJF', sentiment='Abuja, Nigeria', country='\"[(\"\"Arsenal\\'s Mikel Arteta\"\"'),\n",
              " Row(_c0=2, geo=None, text=' #Coronavirus testing must be made free to the public if we are going to understand the scope of this crisis. Anything le…', user='cek422', location='Pennsylvania, USA', entities='[]', sentiment=\"{'neg': 0.173, 'neu': 0.71, 'pos': 0.117, 'compound': -0.3767}\", country='USA'),\n",
              " Row(_c0=3, geo=None, text=' Get ready for mass event crowd cancellations across the World starting this weekend: cricket in #Australia in empty st…', user='InfectiousDz', location='NYC', entities=\"[('World', 'ORG'), ('this weekend', 'DATE'), '']\", sentiment=\"{'neg': 0.085, 'neu': 0.798, 'pos': 0.117, 'compound': 0.1779}\", country='USA'),\n",
              " Row(_c0=4, geo=None, text=' The #coronavirus pandemic is revealing just how closely we are all bound together...[A thread] ', user='vic_gibson', location=None, entities=\"['']\", sentiment=\"{'neg': 0.0, 'neu': 1.0, 'pos': 0.0, 'compound': 0.0}\", country=None)]"
            ]
          },
          "metadata": {
            "tags": []
          },
          "execution_count": 51
        }
      ]
    },
    {
      "cell_type": "code",
      "metadata": {
        "id": "c3hqtjyM-FrB",
        "colab_type": "code",
        "colab": {
          "base_uri": "https://localhost:8080/",
          "height": 51
        },
        "outputId": "3b05c319-d30f-4406-a13d-07310176d894"
      },
      "source": [
        "x = spark.sparkContext.parallelize([1,2,4,8])\n",
        "y = x.map(lambda x:(x, x*x))\n",
        "print(x.collect())\n",
        "print(y.collect())"
      ],
      "execution_count": 52,
      "outputs": [
        {
          "output_type": "stream",
          "text": [
            "[1, 2, 4, 8]\n",
            "[(1, 1), (2, 4), (4, 16), (8, 64)]\n"
          ],
          "name": "stdout"
        }
      ]
    },
    {
      "cell_type": "code",
      "metadata": {
        "id": "zjHMrCqg-Fx7",
        "colab_type": "code",
        "colab": {
          "base_uri": "https://localhost:8080/",
          "height": 51
        },
        "outputId": "5343200e-ac9b-4cba-ec7b-ab9d9f43a1a3"
      },
      "source": [
        "x = spark.sparkContext.parallelize([1,2,4,8])\n",
        "y = x.flatMap(lambda x:(x, x*x))\n",
        "print(x.collect())\n",
        "print(y.collect())"
      ],
      "execution_count": 54,
      "outputs": [
        {
          "output_type": "stream",
          "text": [
            "[1, 2, 4, 8]\n",
            "[1, 1, 2, 4, 4, 16, 8, 64]\n"
          ],
          "name": "stdout"
        }
      ]
    },
    {
      "cell_type": "code",
      "metadata": {
        "id": "xygBLGbY-GKc",
        "colab_type": "code",
        "colab": {
          "base_uri": "https://localhost:8080/",
          "height": 34
        },
        "outputId": "ff17a525-cbaa-4ea0-f2c4-98230ebadc75"
      },
      "source": [
        "x"
      ],
      "execution_count": 55,
      "outputs": [
        {
          "output_type": "execute_result",
          "data": {
            "text/plain": [
              "ParallelCollectionRDD[87] at readRDDFromFile at PythonRDD.scala:262"
            ]
          },
          "metadata": {
            "tags": []
          },
          "execution_count": 55
        }
      ]
    },
    {
      "cell_type": "code",
      "metadata": {
        "id": "v0NRugJv-GFW",
        "colab_type": "code",
        "colab": {
          "base_uri": "https://localhost:8080/",
          "height": 459
        },
        "outputId": "8c022a18-63a1-48dd-caa5-0f02cbf715f3"
      },
      "source": [
        "twitter_df.select('user').show()"
      ],
      "execution_count": 57,
      "outputs": [
        {
          "output_type": "stream",
          "text": [
            "+--------------------+\n",
            "|                user|\n",
            "+--------------------+\n",
            "|          petodinice|\n",
            "| but i took the t...|\n",
            "|              cek422|\n",
            "|        InfectiousDz|\n",
            "|          vic_gibson|\n",
            "|      StewartNgilana|\n",
            "|           BWheatnyc|\n",
            "|             LorseaR|\n",
            "|         straightj23|\n",
            "|       _______coolio|\n",
            "|      champagneaylin|\n",
            "|       YorkLawLondon|\n",
            "|      BeesonMargaret|\n",
            "|      harrytiffanyiv|\n",
            "|         grammyheath|\n",
            "|      barbara_ellena|\n",
            "|               fatal|\n",
            "|          pwjkmiller|\n",
            "|        Mrrandy123RP|\n",
            "|           aliensky0|\n",
            "+--------------------+\n",
            "only showing top 20 rows\n",
            "\n"
          ],
          "name": "stdout"
        }
      ]
    },
    {
      "cell_type": "code",
      "metadata": {
        "id": "bTSLoGsK-GCb",
        "colab_type": "code",
        "colab": {
          "base_uri": "https://localhost:8080/",
          "height": 459
        },
        "outputId": "f100dd1e-395a-4fbb-9713-a4c0b581f46a"
      },
      "source": [
        "twitter_df.select('text','user').show()"
      ],
      "execution_count": 58,
      "outputs": [
        {
          "output_type": "stream",
          "text": [
            "+--------------------+--------------------+\n",
            "|                text|                user|\n",
            "+--------------------+--------------------+\n",
            "|What is God sayin...|          petodinice|\n",
            "|\"BREAKING: \"\"this...| but i took the t...|\n",
            "| #Coronavirus tes...|              cek422|\n",
            "| Get ready for ma...|        InfectiousDz|\n",
            "| The #coronavirus...|          vic_gibson|\n",
            "| COVID-19 update ...|      StewartNgilana|\n",
            "| It’s painful to ...|           BWheatnyc|\n",
            "| 📽️Friends, I wi...|             LorseaR|\n",
            "| Questions about ...|         straightj23|\n",
            "|How they’re deali...|       _______coolio|\n",
            "| BREAKING: Democr...|      champagneaylin|\n",
            "| “If we close dow...|       YorkLawLondon|\n",
            "| I pity the poor ...|      BeesonMargaret|\n",
            "| We’re the heck w...|      harrytiffanyiv|\n",
            "| I don't think sh...|         grammyheath|\n",
            "| Well written, so...|      barbara_ellena|\n",
            "| 1/2 CDC Director...|               fatal|\n",
            "| In all seriousne...|          pwjkmiller|\n",
            "| Wash your hands....|        Mrrandy123RP|\n",
            "| #CoronaVirusCana...|           aliensky0|\n",
            "+--------------------+--------------------+\n",
            "only showing top 20 rows\n",
            "\n"
          ],
          "name": "stdout"
        }
      ]
    },
    {
      "cell_type": "code",
      "metadata": {
        "id": "2RG04QrD-F-k",
        "colab_type": "code",
        "colab": {
          "base_uri": "https://localhost:8080/",
          "height": 1000
        },
        "outputId": "d503f283-dd20-458d-de21-05c002edb0a6"
      },
      "source": [
        "twitter_df.rdd.map(lambda l:l.text.split(\" \")).take(5)"
      ],
      "execution_count": 59,
      "outputs": [
        {
          "output_type": "execute_result",
          "data": {
            "text/plain": [
              "[['What', 'is', 'God', 'saying', 'to', 'us', 'about', '#coronavirus', '?'],\n",
              " ['\"BREAKING:', '\"\"this', 'is', 'disappointing'],\n",
              " ['',\n",
              "  '#Coronavirus',\n",
              "  'testing',\n",
              "  'must',\n",
              "  'be',\n",
              "  'made',\n",
              "  'free',\n",
              "  'to',\n",
              "  'the',\n",
              "  'public',\n",
              "  'if',\n",
              "  'we',\n",
              "  'are',\n",
              "  'going',\n",
              "  'to',\n",
              "  'understand',\n",
              "  'the',\n",
              "  'scope',\n",
              "  'of',\n",
              "  'this',\n",
              "  'crisis.',\n",
              "  'Anything',\n",
              "  'le…'],\n",
              " ['',\n",
              "  'Get',\n",
              "  'ready',\n",
              "  'for',\n",
              "  'mass',\n",
              "  'event',\n",
              "  'crowd',\n",
              "  'cancellations',\n",
              "  'across',\n",
              "  'the',\n",
              "  'World',\n",
              "  'starting',\n",
              "  'this',\n",
              "  'weekend:',\n",
              "  'cricket',\n",
              "  'in',\n",
              "  '#Australia',\n",
              "  'in',\n",
              "  'empty',\n",
              "  'st…'],\n",
              " ['',\n",
              "  'The',\n",
              "  '#coronavirus',\n",
              "  'pandemic',\n",
              "  'is',\n",
              "  'revealing',\n",
              "  'just',\n",
              "  'how',\n",
              "  'closely',\n",
              "  'we',\n",
              "  'are',\n",
              "  'all',\n",
              "  'bound',\n",
              "  'together...[A',\n",
              "  'thread]',\n",
              "  '']]"
            ]
          },
          "metadata": {
            "tags": []
          },
          "execution_count": 59
        }
      ]
    },
    {
      "cell_type": "code",
      "metadata": {
        "id": "51SfLGyR-F59",
        "colab_type": "code",
        "colab": {
          "base_uri": "https://localhost:8080/",
          "height": 1000
        },
        "outputId": "09bc8532-9b8b-4618-dbc6-6d91c0067873"
      },
      "source": [
        "twitter_df.rdd.flatMap(lambda l: l.text.split(\" \")).take(100)"
      ],
      "execution_count": 61,
      "outputs": [
        {
          "output_type": "execute_result",
          "data": {
            "text/plain": [
              "['What',\n",
              " 'is',\n",
              " 'God',\n",
              " 'saying',\n",
              " 'to',\n",
              " 'us',\n",
              " 'about',\n",
              " '#coronavirus',\n",
              " '?',\n",
              " '\"BREAKING:',\n",
              " '\"\"this',\n",
              " 'is',\n",
              " 'disappointing',\n",
              " '',\n",
              " '#Coronavirus',\n",
              " 'testing',\n",
              " 'must',\n",
              " 'be',\n",
              " 'made',\n",
              " 'free',\n",
              " 'to',\n",
              " 'the',\n",
              " 'public',\n",
              " 'if',\n",
              " 'we',\n",
              " 'are',\n",
              " 'going',\n",
              " 'to',\n",
              " 'understand',\n",
              " 'the',\n",
              " 'scope',\n",
              " 'of',\n",
              " 'this',\n",
              " 'crisis.',\n",
              " 'Anything',\n",
              " 'le…',\n",
              " '',\n",
              " 'Get',\n",
              " 'ready',\n",
              " 'for',\n",
              " 'mass',\n",
              " 'event',\n",
              " 'crowd',\n",
              " 'cancellations',\n",
              " 'across',\n",
              " 'the',\n",
              " 'World',\n",
              " 'starting',\n",
              " 'this',\n",
              " 'weekend:',\n",
              " 'cricket',\n",
              " 'in',\n",
              " '#Australia',\n",
              " 'in',\n",
              " 'empty',\n",
              " 'st…',\n",
              " '',\n",
              " 'The',\n",
              " '#coronavirus',\n",
              " 'pandemic',\n",
              " 'is',\n",
              " 'revealing',\n",
              " 'just',\n",
              " 'how',\n",
              " 'closely',\n",
              " 'we',\n",
              " 'are',\n",
              " 'all',\n",
              " 'bound',\n",
              " 'together...[A',\n",
              " 'thread]',\n",
              " '',\n",
              " '',\n",
              " 'COVID-19',\n",
              " 'update',\n",
              " 'as',\n",
              " 'of',\n",
              " 'this',\n",
              " 'morning:1.',\n",
              " 'Death',\n",
              " 'toll',\n",
              " 'in',\n",
              " 'Italy',\n",
              " 'passes',\n",
              " '1,0002.',\n",
              " \"Arsenal's\",\n",
              " 'head',\n",
              " 'coach',\n",
              " 'Arteta',\n",
              " 'tests',\n",
              " 'positive3.',\n",
              " 'US…',\n",
              " '',\n",
              " 'It’s',\n",
              " 'painful',\n",
              " 'to',\n",
              " 'say,',\n",
              " 'but',\n",
              " 'as',\n",
              " 'an']"
            ]
          },
          "metadata": {
            "tags": []
          },
          "execution_count": 61
        }
      ]
    },
    {
      "cell_type": "code",
      "metadata": {
        "id": "x2LBw7u8CSXD",
        "colab_type": "code",
        "colab": {
          "base_uri": "https://localhost:8080/",
          "height": 459
        },
        "outputId": "ce869d89-ccc6-4508-ad31-d27e8b6ee1e7"
      },
      "source": [
        "corona_df.show()"
      ],
      "execution_count": 62,
      "outputs": [
        {
          "output_type": "stream",
          "text": [
            "+---+----------------+--------------------+--------+---------+----------+---------+-----+---------+--------------------+----+\n",
            "|_c0|           State|             Country|     Lat|     Long|      Date|Confirmed|Death|Recovered|       state_cleaned|City|\n",
            "+---+----------------+--------------------+--------+---------+----------+---------+-----+---------+--------------------+----+\n",
            "|  0|            null|            Thailand|    15.0|    101.0|2020-01-22|        2|    0|        0|             Bangkok|null|\n",
            "|  1|            null|               Japan|    36.0|    138.0|2020-01-22|        2|    0|        0|             Hiraide|null|\n",
            "|  2|            null|           Singapore|  1.2833| 103.8333|2020-01-22|        0|    0|        0|           Singapore|null|\n",
            "|  3|            null|               Nepal| 28.1667|    84.25|2020-01-22|        0|    0|        0|           Kathmandu|null|\n",
            "|  4|            null|            Malaysia|     2.5|    112.5|2020-01-22|        0|    0|        0|             Sarawak|null|\n",
            "|  5|British Columbia|              Canada| 49.2827|-123.1207|2020-01-22|        0|    0|        0|    British Columbia|null|\n",
            "|  6| New South Wales|           Australia|-33.8688| 151.2093|2020-01-22|        0|    0|        0|     New South Wales|null|\n",
            "|  7|        Victoria|           Australia|-37.8136| 144.9631|2020-01-22|        0|    0|        0|            Victoria|null|\n",
            "|  8|      Queensland|           Australia|-28.0167|    153.4|2020-01-22|        0|    0|        0|          Queensland|null|\n",
            "|  9|            null|            Cambodia|   11.55| 104.9167|2020-01-22|        0|    0|        0|          Phnom Penh|null|\n",
            "| 10|            null|           Sri Lanka|     7.0|     81.0|2020-01-22|        0|    0|        0|Sri Jayawardenapu...|null|\n",
            "| 11|            null|             Germany|    51.0|      9.0|2020-01-22|        0|    0|        0|              Berlin|null|\n",
            "| 12|            null|             Finland|    64.0|     26.0|2020-01-22|        0|    0|        0|            Helsinki|null|\n",
            "| 13|            null|United Arab Emirates|    24.0|     54.0|2020-01-22|        0|    0|        0|           Abu Dhabi|null|\n",
            "| 14|            null|         Philippines|    13.0|    122.0|2020-01-22|        0|    0|        0|              Manila|null|\n",
            "| 15|            null|               India|    21.0|     78.0|2020-01-22|        0|    0|        0|           New Delhi|null|\n",
            "| 16|            null|               Italy|    43.0|     12.0|2020-01-22|        0|    0|        0|                Rome|null|\n",
            "| 17|            null|              Sweden|    63.0|     16.0|2020-01-22|        0|    0|        0|           Stockholm|null|\n",
            "| 18|            null|               Spain|    40.0|     -4.0|2020-01-22|        0|    0|        0|              Toledo|null|\n",
            "| 19| South Australia|           Australia|-34.9285| 138.6007|2020-01-22|        0|    0|        0|     South Australia|null|\n",
            "+---+----------------+--------------------+--------+---------+----------+---------+-----+---------+--------------------+----+\n",
            "only showing top 20 rows\n",
            "\n"
          ],
          "name": "stdout"
        }
      ]
    },
    {
      "cell_type": "code",
      "metadata": {
        "id": "IJBc6LTcCSzW",
        "colab_type": "code",
        "colab": {
          "base_uri": "https://localhost:8080/",
          "height": 459
        },
        "outputId": "52f34d12-ceb9-493c-c752-fdf45467b471"
      },
      "source": [
        "corona_df.filter('country = \"US\"').show()"
      ],
      "execution_count": 67,
      "outputs": [
        {
          "output_type": "stream",
          "text": [
            "+---+----------------+-------+------------------+---------+----------+---------+-----+---------+----------------+----------------+\n",
            "|_c0|           State|Country|               Lat|     Long|      Date|Confirmed|Death|Recovered|   state_cleaned|            City|\n",
            "+---+----------------+-------+------------------+---------+----------+---------+-----+---------+----------------+----------------+\n",
            "| 98|      Washington|     US|           47.4009|-121.4905|2020-01-22|        0|    0|        0|      Washington|      Washington|\n",
            "| 99|        New York|     US|           42.1657| -74.9481|2020-01-22|        0|    0|        0|        New York|        New York|\n",
            "|100|      California|     US|           36.1162|-119.6816|2020-01-22|        0|    0|        0|      California|      California|\n",
            "|101|   Massachusetts|     US|           42.2302| -71.5301|2020-01-22|        0|    0|        0|   Massachusetts|   Massachusetts|\n",
            "|102|Diamond Princess|     US|           35.4437|  139.638|2020-01-22|        0|    0|        0|Diamond Princess|Diamond Princess|\n",
            "|103|  Grand Princess|     US|           37.6489|-122.6655|2020-01-22|        0|    0|        0|  Grand Princess|  Grand Princess|\n",
            "|104|         Georgia|     US|           33.0406| -83.6431|2020-01-22|        0|    0|        0|         Georgia|         Georgia|\n",
            "|105|        Colorado|     US|           39.0598|-105.3111|2020-01-22|        0|    0|        0|        Colorado|        Colorado|\n",
            "|106|         Florida|     US|           27.7663| -81.6868|2020-01-22|        0|    0|        0|         Florida|         Florida|\n",
            "|107|      New Jersey|     US|           40.2989|  -74.521|2020-01-22|        0|    0|        0|      New Jersey|      New Jersey|\n",
            "|108|          Oregon|     US|44.571999999999996|-122.0709|2020-01-22|        0|    0|        0|          Oregon|          Oregon|\n",
            "|109|           Texas|     US|           31.0545| -97.5635|2020-01-22|        0|    0|        0|           Texas|           Texas|\n",
            "|110|        Illinois|     US|           40.3495| -88.9861|2020-01-22|        0|    0|        0|        Illinois|        Illinois|\n",
            "|111|    Pennsylvania|     US|           40.5908| -77.2098|2020-01-22|        0|    0|        0|    Pennsylvania|    Pennsylvania|\n",
            "|112|            Iowa|     US|           42.0115| -93.2105|2020-01-22|        0|    0|        0|            Iowa|            Iowa|\n",
            "|113|        Maryland|     US|           39.0639| -76.8021|2020-01-22|        0|    0|        0|        Maryland|        Maryland|\n",
            "|114|  North Carolina|     US|           35.6301| -79.8064|2020-01-22|        0|    0|        0|  North Carolina|  North Carolina|\n",
            "|115|  South Carolina|     US|           33.8569|  -80.945|2020-01-22|        0|    0|        0|  South Carolina|  South Carolina|\n",
            "|116|       Tennessee|     US|           35.7478| -86.6923|2020-01-22|        0|    0|        0|       Tennessee|       Tennessee|\n",
            "|117|        Virginia|     US|           37.7693|   -78.17|2020-01-22|        0|    0|        0|        Virginia|        Virginia|\n",
            "+---+----------------+-------+------------------+---------+----------+---------+-----+---------+----------------+----------------+\n",
            "only showing top 20 rows\n",
            "\n"
          ],
          "name": "stdout"
        }
      ]
    },
    {
      "cell_type": "code",
      "metadata": {
        "id": "6vU9NHTFCTKf",
        "colab_type": "code",
        "colab": {
          "base_uri": "https://localhost:8080/",
          "height": 459
        },
        "outputId": "741efde4-5c53-4ad8-8055-6dda4ff9d269"
      },
      "source": [
        "corona_df.filter('country = \"US\"').sort(col(\"Date\"), ascending = False).show()"
      ],
      "execution_count": 70,
      "outputs": [
        {
          "output_type": "stream",
          "text": [
            "+-----+----------------+-------+------------------+---------+----------+---------+-----+---------+----------------+----------------+\n",
            "|  _c0|           State|Country|               Lat|     Long|      Date|Confirmed|Death|Recovered|   state_cleaned|            City|\n",
            "+-----+----------------+-------+------------------+---------+----------+---------+-----+---------+----------------+----------------+\n",
            "|27764|      Washington|     US|           47.4009|-121.4905|2020-03-20|     1524|   83|        0|      Washington|      Washington|\n",
            "|27784|         Arizona|     US|           33.7298|-111.4312|2020-03-20|       78|    0|        0|         Arizona|         Arizona|\n",
            "|27765|        New York|     US|           42.1657| -74.9481|2020-03-20|     8310|   42|        0|        New York|        New York|\n",
            "|27766|      California|     US|           36.1162|-119.6816|2020-03-20|     1177|   23|        0|      California|      California|\n",
            "|27767|   Massachusetts|     US|           42.2302| -71.5301|2020-03-20|      413|    1|        0|   Massachusetts|   Massachusetts|\n",
            "|27768|Diamond Princess|     US|           35.4437|  139.638|2020-03-20|       49|    0|        0|Diamond Princess|Diamond Princess|\n",
            "|27769|  Grand Princess|     US|           37.6489|-122.6655|2020-03-20|       23|    0|        0|  Grand Princess|  Grand Princess|\n",
            "|27770|         Georgia|     US|           33.0406| -83.6431|2020-03-20|      420|   13|        0|         Georgia|         Georgia|\n",
            "|27771|        Colorado|     US|           39.0598|-105.3111|2020-03-20|      363|    4|        0|        Colorado|        Colorado|\n",
            "|27772|         Florida|     US|           27.7663| -81.6868|2020-03-20|      563|   10|        0|         Florida|         Florida|\n",
            "|27773|      New Jersey|     US|           40.2989|  -74.521|2020-03-20|      890|   11|        0|      New Jersey|      New Jersey|\n",
            "|27774|          Oregon|     US|44.571999999999996|-122.0709|2020-03-20|      114|    3|        0|          Oregon|          Oregon|\n",
            "|27775|           Texas|     US|           31.0545| -97.5635|2020-03-20|      394|    5|        0|           Texas|           Texas|\n",
            "|27776|        Illinois|     US|           40.3495| -88.9861|2020-03-20|      585|    5|        0|        Illinois|        Illinois|\n",
            "|27777|    Pennsylvania|     US|           40.5908| -77.2098|2020-03-20|      303|    1|        0|    Pennsylvania|    Pennsylvania|\n",
            "|27778|            Iowa|     US|           42.0115| -93.2105|2020-03-20|       45|    0|        0|            Iowa|            Iowa|\n",
            "|27779|        Maryland|     US|           39.0639| -76.8021|2020-03-20|      149|    1|        0|        Maryland|        Maryland|\n",
            "|27780|  North Carolina|     US|           35.6301| -79.8064|2020-03-20|      172|    0|        0|  North Carolina|  North Carolina|\n",
            "|27781|  South Carolina|     US|           33.8569|  -80.945|2020-03-20|      126|    1|        0|  South Carolina|  South Carolina|\n",
            "|27782|       Tennessee|     US|           35.7478| -86.6923|2020-03-20|      233|    0|        0|       Tennessee|       Tennessee|\n",
            "+-----+----------------+-------+------------------+---------+----------+---------+-----+---------+----------------+----------------+\n",
            "only showing top 20 rows\n",
            "\n"
          ],
          "name": "stdout"
        }
      ]
    },
    {
      "cell_type": "code",
      "metadata": {
        "id": "AgthvlQfCTUK",
        "colab_type": "code",
        "colab": {
          "base_uri": "https://localhost:8080/",
          "height": 459
        },
        "outputId": "6e6a36b9-abd1-4b34-c76d-02e735260bbe"
      },
      "source": [
        "#Same output of sort and orderBy\n",
        "\n",
        "corona_df.filter(\"country = 'US'\").orderBy(col(\"Date\"), ascending = False).show()"
      ],
      "execution_count": 71,
      "outputs": [
        {
          "output_type": "stream",
          "text": [
            "+-----+----------------+-------+------------------+---------+----------+---------+-----+---------+----------------+----------------+\n",
            "|  _c0|           State|Country|               Lat|     Long|      Date|Confirmed|Death|Recovered|   state_cleaned|            City|\n",
            "+-----+----------------+-------+------------------+---------+----------+---------+-----+---------+----------------+----------------+\n",
            "|27764|      Washington|     US|           47.4009|-121.4905|2020-03-20|     1524|   83|        0|      Washington|      Washington|\n",
            "|27784|         Arizona|     US|           33.7298|-111.4312|2020-03-20|       78|    0|        0|         Arizona|         Arizona|\n",
            "|27765|        New York|     US|           42.1657| -74.9481|2020-03-20|     8310|   42|        0|        New York|        New York|\n",
            "|27766|      California|     US|           36.1162|-119.6816|2020-03-20|     1177|   23|        0|      California|      California|\n",
            "|27767|   Massachusetts|     US|           42.2302| -71.5301|2020-03-20|      413|    1|        0|   Massachusetts|   Massachusetts|\n",
            "|27768|Diamond Princess|     US|           35.4437|  139.638|2020-03-20|       49|    0|        0|Diamond Princess|Diamond Princess|\n",
            "|27769|  Grand Princess|     US|           37.6489|-122.6655|2020-03-20|       23|    0|        0|  Grand Princess|  Grand Princess|\n",
            "|27770|         Georgia|     US|           33.0406| -83.6431|2020-03-20|      420|   13|        0|         Georgia|         Georgia|\n",
            "|27771|        Colorado|     US|           39.0598|-105.3111|2020-03-20|      363|    4|        0|        Colorado|        Colorado|\n",
            "|27772|         Florida|     US|           27.7663| -81.6868|2020-03-20|      563|   10|        0|         Florida|         Florida|\n",
            "|27773|      New Jersey|     US|           40.2989|  -74.521|2020-03-20|      890|   11|        0|      New Jersey|      New Jersey|\n",
            "|27774|          Oregon|     US|44.571999999999996|-122.0709|2020-03-20|      114|    3|        0|          Oregon|          Oregon|\n",
            "|27775|           Texas|     US|           31.0545| -97.5635|2020-03-20|      394|    5|        0|           Texas|           Texas|\n",
            "|27776|        Illinois|     US|           40.3495| -88.9861|2020-03-20|      585|    5|        0|        Illinois|        Illinois|\n",
            "|27777|    Pennsylvania|     US|           40.5908| -77.2098|2020-03-20|      303|    1|        0|    Pennsylvania|    Pennsylvania|\n",
            "|27778|            Iowa|     US|           42.0115| -93.2105|2020-03-20|       45|    0|        0|            Iowa|            Iowa|\n",
            "|27779|        Maryland|     US|           39.0639| -76.8021|2020-03-20|      149|    1|        0|        Maryland|        Maryland|\n",
            "|27780|  North Carolina|     US|           35.6301| -79.8064|2020-03-20|      172|    0|        0|  North Carolina|  North Carolina|\n",
            "|27781|  South Carolina|     US|           33.8569|  -80.945|2020-03-20|      126|    1|        0|  South Carolina|  South Carolina|\n",
            "|27782|       Tennessee|     US|           35.7478| -86.6923|2020-03-20|      233|    0|        0|       Tennessee|       Tennessee|\n",
            "+-----+----------------+-------+------------------+---------+----------+---------+-----+---------+----------------+----------------+\n",
            "only showing top 20 rows\n",
            "\n"
          ],
          "name": "stdout"
        }
      ]
    },
    {
      "cell_type": "code",
      "metadata": {
        "id": "uqH0l4TECTiJ",
        "colab_type": "code",
        "colab": {
          "base_uri": "https://localhost:8080/",
          "height": 459
        },
        "outputId": "09ff6cf1-3f9c-4cdd-94f0-72a95fab785d"
      },
      "source": [
        "corona_df.filter(\"country='US'\").sortWithinPartitions([col('Date'),col('confirmed')], ascending = False).show()"
      ],
      "execution_count": 77,
      "outputs": [
        {
          "output_type": "stream",
          "text": [
            "+-----+--------------+-------+-------+---------+----------+---------+-----+---------+--------------+--------------+\n",
            "|  _c0|         State|Country|    Lat|     Long|      Date|Confirmed|Death|Recovered| state_cleaned|          City|\n",
            "+-----+--------------+-------+-------+---------+----------+---------+-----+---------+--------------+--------------+\n",
            "|27765|      New York|     US|42.1657| -74.9481|2020-03-20|     8310|   42|        0|      New York|      New York|\n",
            "|27764|    Washington|     US|47.4009|-121.4905|2020-03-20|     1524|   83|        0|    Washington|    Washington|\n",
            "|27766|    California|     US|36.1162|-119.6816|2020-03-20|     1177|   23|        0|    California|    California|\n",
            "|27773|    New Jersey|     US|40.2989|  -74.521|2020-03-20|      890|   11|        0|    New Jersey|    New Jersey|\n",
            "|27776|      Illinois|     US|40.3495| -88.9861|2020-03-20|      585|    5|        0|      Illinois|      Illinois|\n",
            "|27772|       Florida|     US|27.7663| -81.6868|2020-03-20|      563|   10|        0|       Florida|       Florida|\n",
            "|27812|      Michigan|     US|43.3266| -84.5361|2020-03-20|      552|    3|        0|      Michigan|      Michigan|\n",
            "|27804|     Louisiana|     US|31.1695| -91.8678|2020-03-20|      538|   14|        0|     Louisiana|     Louisiana|\n",
            "|27770|       Georgia|     US|33.0406| -83.6431|2020-03-20|      420|   13|        0|       Georgia|       Georgia|\n",
            "|27767| Massachusetts|     US|42.2302| -71.5301|2020-03-20|      413|    1|        0| Massachusetts| Massachusetts|\n",
            "|27775|         Texas|     US|31.0545| -97.5635|2020-03-20|      394|    5|        0|         Texas|         Texas|\n",
            "|27771|      Colorado|     US|39.0598|-105.3111|2020-03-20|      363|    4|        0|      Colorado|      Colorado|\n",
            "|27777|  Pennsylvania|     US|40.5908| -77.2098|2020-03-20|      303|    1|        0|  Pennsylvania|  Pennsylvania|\n",
            "|27782|     Tennessee|     US|35.7478| -86.6923|2020-03-20|      233|    0|        0|     Tennessee|     Tennessee|\n",
            "|27794|     Wisconsin|     US|44.2685| -89.6165|2020-03-20|      207|    3|        0|     Wisconsin|     Wisconsin|\n",
            "|27795|   Connecticut|     US|41.5978| -72.7554|2020-03-20|      194|    3|        0|   Connecticut|   Connecticut|\n",
            "|27792|          Ohio|     US|40.3888| -82.7649|2020-03-20|      173|    2|        0|          Ohio|          Ohio|\n",
            "|27780|North Carolina|     US|35.6301| -79.8064|2020-03-20|      172|    0|        0|North Carolina|North Carolina|\n",
            "|27779|      Maryland|     US|39.0639| -76.8021|2020-03-20|      149|    1|        0|      Maryland|      Maryland|\n",
            "|27781|South Carolina|     US|33.8569|  -80.945|2020-03-20|      126|    1|        0|South Carolina|South Carolina|\n",
            "+-----+--------------+-------+-------+---------+----------+---------+-----+---------+--------------+--------------+\n",
            "only showing top 20 rows\n",
            "\n"
          ],
          "name": "stdout"
        }
      ]
    },
    {
      "cell_type": "code",
      "metadata": {
        "id": "2ujB5mm7CTeT",
        "colab_type": "code",
        "colab": {
          "base_uri": "https://localhost:8080/",
          "height": 207
        },
        "outputId": "91fed65d-317d-4753-e5c5-677336ffa2b5"
      },
      "source": [
        "corona_df.describe().show()"
      ],
      "execution_count": 79,
      "outputs": [
        {
          "output_type": "stream",
          "text": [
            "+-------+-----------------+---------+-----------+------------------+------------------+----------+------------------+------------------+------------------+-------------+-----------+\n",
            "|summary|              _c0|    State|    Country|               Lat|              Long|      Date|         Confirmed|             Death|         Recovered|state_cleaned|       City|\n",
            "+-------+-----------------+---------+-----------+------------------+------------------+----------+------------------+------------------+------------------+-------------+-----------+\n",
            "|  count|            28143|    19116|      28143|             28143|             28143|     28143|             28143|             28143|             28143|        28143|      14573|\n",
            "|   mean|          14071.0|     null|       null|30.965553459118834|-34.57031257861667|      null|161.88245744945456| 5.494368048893153| 60.17290267562094|         null|       null|\n",
            "| stddev|8124.328649186959|     null|       null|19.365472826597646| 80.78375872452575|      null| 2519.847217725942|109.29475709869875|1346.6597829124426|         null|       null|\n",
            "|    min|                0|Adams, IN|Afghanistan|          -41.4545|         -157.8584|2020-01-22|                 0|                 0|                 0|    Abu Dhabi|      Adams|\n",
            "|    max|            28142| Zhejiang|   Zimbabwe|           71.7069|           178.065|2020-03-20|             67800|              4032|             58382|     erdészet|Yolo County|\n",
            "+-------+-----------------+---------+-----------+------------------+------------------+----------+------------------+------------------+------------------+-------------+-----------+\n",
            "\n"
          ],
          "name": "stdout"
        }
      ]
    },
    {
      "cell_type": "code",
      "metadata": {
        "id": "vkuJBnEqCTZo",
        "colab_type": "code",
        "colab": {
          "base_uri": "https://localhost:8080/",
          "height": 238
        },
        "outputId": "054217bc-b2d2-4b6a-ab82-fe3424ee50de"
      },
      "source": [
        "corona_df.printSchema()"
      ],
      "execution_count": 80,
      "outputs": [
        {
          "output_type": "stream",
          "text": [
            "root\n",
            " |-- _c0: integer (nullable = true)\n",
            " |-- State: string (nullable = true)\n",
            " |-- Country: string (nullable = true)\n",
            " |-- Lat: double (nullable = true)\n",
            " |-- Long: double (nullable = true)\n",
            " |-- Date: string (nullable = true)\n",
            " |-- Confirmed: integer (nullable = true)\n",
            " |-- Death: integer (nullable = true)\n",
            " |-- Recovered: integer (nullable = true)\n",
            " |-- state_cleaned: string (nullable = true)\n",
            " |-- City: string (nullable = true)\n",
            "\n"
          ],
          "name": "stdout"
        }
      ]
    },
    {
      "cell_type": "code",
      "metadata": {
        "id": "9NPwo4jfCTRw",
        "colab_type": "code",
        "colab": {
          "base_uri": "https://localhost:8080/",
          "height": 459
        },
        "outputId": "2aadb0a7-7308-4440-f59e-ca6674634907"
      },
      "source": [
        "corona_df.filter('confirmed>10000').sort(col('confirmed')).show()"
      ],
      "execution_count": 82,
      "outputs": [
        {
          "output_type": "stream",
          "text": [
            "+-----+------+-------+-------+--------+----------+---------+-----+---------+-------------+----+\n",
            "|  _c0| State|Country|    Lat|    Long|      Date|Confirmed|Death|Recovered|state_cleaned|City|\n",
            "+-----+------+-------+-------+--------+----------+---------+-----+---------+-------------+----+\n",
            "|24005|  null|   Iran|   32.0|    53.0|2020-03-12|    10075|  429|     2959|       Tehran|null|\n",
            "|22912|  null|  Italy|   43.0|    12.0|2020-03-10|    10149|  631|      724|         Rome|null|\n",
            "|27346|France| France|46.2276|  2.2137|2020-03-19|    10871|  243|       12|       France|null|\n",
            "| 5401| Hubei|  China|30.9756|112.2707|2020-02-02|    11177|  350|      295|        Hubei|null|\n",
            "|24482|  null|   Iran|   32.0|    53.0|2020-03-13|    11364|  514|     2959|       Tehran|null|\n",
            "|26253|  null|  Spain|   40.0|    -4.0|2020-03-17|    11748|  533|     1028|       Toledo|null|\n",
            "|26723|  null|Germany|   51.0|     9.0|2020-03-18|    12327|   28|      105|       Berlin|null|\n",
            "|23866|  null|  Italy|   43.0|    12.0|2020-03-12|    12462|  827|     1045|         Rome|null|\n",
            "|23389|  null|  Italy|   43.0|    12.0|2020-03-11|    12462|  827|     1045|         Rome|null|\n",
            "|27823|France| France|46.2276|  2.2137|2020-03-20|    12612|  450|       12|       France|null|\n",
            "|24959|  null|   Iran|   32.0|    53.0|2020-03-14|    12729|  611|     2959|       Tehran|null|\n",
            "| 5878| Hubei|  China|30.9756|112.2707|2020-02-03|    13522|  414|      386|        Hubei|null|\n",
            "|26730|  null|  Spain|   40.0|    -4.0|2020-03-18|    13910|  623|     1081|       Toledo|null|\n",
            "|25436|  null|   Iran|   32.0|    53.0|2020-03-15|    13938|  724|     4590|       Tehran|null|\n",
            "|25913|  null|   Iran|   32.0|    53.0|2020-03-16|    14991|  853|     4590|       Tehran|null|\n",
            "|27200|  null|Germany|   51.0|     9.0|2020-03-19|    15320|   44|      113|       Berlin|null|\n",
            "|26390|  null|   Iran|   32.0|    53.0|2020-03-17|    16169|  988|     5389|       Tehran|null|\n",
            "| 6355| Hubei|  China|30.9756|112.2707|2020-02-04|    16678|  479|      522|        Hubei|null|\n",
            "|26867|  null|   Iran|   32.0|    53.0|2020-03-18|    17361| 1135|     5389|       Tehran|null|\n",
            "|24343|  null|  Italy|   43.0|    12.0|2020-03-13|    17660| 1266|     1439|         Rome|null|\n",
            "+-----+------+-------+-------+--------+----------+---------+-----+---------+-------------+----+\n",
            "only showing top 20 rows\n",
            "\n"
          ],
          "name": "stdout"
        }
      ]
    },
    {
      "cell_type": "code",
      "metadata": {
        "id": "5Pta6srTCTF4",
        "colab_type": "code",
        "colab": {
          "base_uri": "https://localhost:8080/",
          "height": 34
        },
        "outputId": "62a3bcc1-6258-488b-f086-cc5bd717b3df"
      },
      "source": [
        "corona_df.filter('confirmed>10000').approxQuantile('confirmed',[0.25,0.5,0.75,0.9,0.95],0.9)"
      ],
      "execution_count": 83,
      "outputs": [
        {
          "output_type": "execute_result",
          "data": {
            "text/plain": [
              "[10075.0, 10075.0, 10075.0, 10075.0, 67800.0]"
            ]
          },
          "metadata": {
            "tags": []
          },
          "execution_count": 83
        }
      ]
    },
    {
      "cell_type": "code",
      "metadata": {
        "id": "t7fDmHsVCTC7",
        "colab_type": "code",
        "colab": {
          "base_uri": "https://localhost:8080/",
          "height": 34
        },
        "outputId": "b0ad5a25-6404-4faa-c111-ce12239c2718"
      },
      "source": [
        "#collect give in row formate\n",
        "\n",
        "corona_df.agg({'Date':'max'}).collect()"
      ],
      "execution_count": 86,
      "outputs": [
        {
          "output_type": "execute_result",
          "data": {
            "text/plain": [
              "[Row(max(Date)='2020-03-20')]"
            ]
          },
          "metadata": {
            "tags": []
          },
          "execution_count": 86
        }
      ]
    },
    {
      "cell_type": "code",
      "metadata": {
        "id": "fDYJFzGICS9h",
        "colab_type": "code",
        "colab": {
          "base_uri": "https://localhost:8080/",
          "height": 34
        },
        "outputId": "2df88371-3a14-4a62-ef6b-190e24e0d9ae"
      },
      "source": [
        "corona_df.agg({'date':'max','confirmed':'max'}).collect()"
      ],
      "execution_count": 94,
      "outputs": [
        {
          "output_type": "execute_result",
          "data": {
            "text/plain": [
              "[Row(max(date)='2020-03-20', max(confirmed)=67800)]"
            ]
          },
          "metadata": {
            "tags": []
          },
          "execution_count": 94
        }
      ]
    },
    {
      "cell_type": "code",
      "metadata": {
        "id": "3t-FMQDnCS56",
        "colab_type": "code",
        "colab": {}
      },
      "source": [
        "max_date = corona_df.agg({'date':'max'})"
      ],
      "execution_count": 91,
      "outputs": []
    },
    {
      "cell_type": "code",
      "metadata": {
        "id": "wR0Z9dpuCSuh",
        "colab_type": "code",
        "colab": {
          "base_uri": "https://localhost:8080/",
          "height": 119
        },
        "outputId": "90f4acd1-09e4-4f49-f567-7b63797dc7fb"
      },
      "source": [
        "max_date.show()"
      ],
      "execution_count": 92,
      "outputs": [
        {
          "output_type": "stream",
          "text": [
            "+----------+\n",
            "| max(date)|\n",
            "+----------+\n",
            "|2020-03-20|\n",
            "+----------+\n",
            "\n"
          ],
          "name": "stdout"
        }
      ]
    },
    {
      "cell_type": "code",
      "metadata": {
        "id": "1u7qwb7tCSpn",
        "colab_type": "code",
        "colab": {
          "base_uri": "https://localhost:8080/",
          "height": 119
        },
        "outputId": "c5a2e18d-63ca-4836-9093-3a6dc84aca25"
      },
      "source": [
        "corona_df.select([max('date'),max('confirmed')]).show()"
      ],
      "execution_count": 102,
      "outputs": [
        {
          "output_type": "stream",
          "text": [
            "+----------+--------------+\n",
            "| max(date)|max(confirmed)|\n",
            "+----------+--------------+\n",
            "|2020-03-20|         67800|\n",
            "+----------+--------------+\n",
            "\n"
          ],
          "name": "stdout"
        }
      ]
    },
    {
      "cell_type": "code",
      "metadata": {
        "id": "rCEfgP9eCSmu",
        "colab_type": "code",
        "colab": {
          "base_uri": "https://localhost:8080/",
          "height": 459
        },
        "outputId": "f79ddca5-13fe-4821-cc21-254d3e45fb08"
      },
      "source": [
        "import pyspark.sql.functions as F\n",
        "corona_df.groupBy('Country','state_cleaned').agg(F.max('date')).show()"
      ],
      "execution_count": 103,
      "outputs": [
        {
          "output_type": "stream",
          "text": [
            "+--------------+--------------------+----------+\n",
            "|       Country|       state_cleaned| max(date)|\n",
            "+--------------+--------------------+----------+\n",
            "|      Cameroon|             Yaounde|2020-03-20|\n",
            "|         China|             Qinghai|2020-03-20|\n",
            "|        Cyprus|             Nicosia|2020-03-20|\n",
            "|            US|            Michigan|2020-03-20|\n",
            "|      Portugal|              Lisbon|2020-03-20|\n",
            "|            US|            Colorado|2020-03-20|\n",
            "|United Kingdom|      Cayman Islands|2020-03-20|\n",
            "|         China|              Hainan|2020-03-20|\n",
            "|            US|            Missouri|2020-03-20|\n",
            "|     Australia|Australian Capita...|2020-03-20|\n",
            "|            US|                Guam|2020-03-20|\n",
            "|        France|             Reunion|2020-03-20|\n",
            "|      Colombia|        Cundinamarca|2020-03-20|\n",
            "|          Cuba|              Havana|2020-03-20|\n",
            "|     Mauritius|          Port Louis|2020-03-20|\n",
            "|       Ukraine|                Kiev|2020-03-20|\n",
            "|         Benin|          Porto-Novo|2020-03-20|\n",
            "|   Switzerland|                Bern|2020-03-20|\n",
            "|         Malta|               Mgarr|2020-03-20|\n",
            "|United Kingdom|         Isle of Man|2020-03-20|\n",
            "+--------------+--------------------+----------+\n",
            "only showing top 20 rows\n",
            "\n"
          ],
          "name": "stdout"
        }
      ]
    },
    {
      "cell_type": "code",
      "metadata": {
        "id": "OQ0Q4AmCCSg1",
        "colab_type": "code",
        "colab": {
          "base_uri": "https://localhost:8080/",
          "height": 459
        },
        "outputId": "538483e6-cbfc-4dfe-de47-5ea289dd99f4"
      },
      "source": [
        "corona_df.join(corona_df.groupBy('Country','state_cleaned').agg(F.max('date').alias('Date')),on=['country','state_cleaned','Date'],how='inner').show()"
      ],
      "execution_count": 104,
      "outputs": [
        {
          "output_type": "stream",
          "text": [
            "+--------------------+--------------------+----------+-----+----------------+--------+---------+---------+-----+---------+----+\n",
            "|             Country|       state_cleaned|      Date|  _c0|           State|     Lat|     Long|Confirmed|Death|Recovered|City|\n",
            "+--------------------+--------------------+----------+-----+----------------+--------+---------+---------+-----+---------+----+\n",
            "|            Thailand|             Bangkok|2020-03-20|27666|            null|    15.0|    101.0|      322|    1|       42|null|\n",
            "|               Japan|             Hiraide|2020-03-20|27667|            null|    36.0|    138.0|      963|   33|      191|null|\n",
            "|           Singapore|           Singapore|2020-03-20|27668|            null|  1.2833| 103.8333|      385|    0|      124|null|\n",
            "|               Nepal|           Kathmandu|2020-03-20|27669|            null| 28.1667|    84.25|        1|    0|        1|null|\n",
            "|            Malaysia|             Sarawak|2020-03-20|27670|            null|     2.5|    112.5|     1030|    3|       87|null|\n",
            "|              Canada|    British Columbia|2020-03-20|27671|British Columbia| 49.2827|-123.1207|      271|    8|        4|null|\n",
            "|           Australia|     New South Wales|2020-03-20|27672| New South Wales|-33.8688| 151.2093|      353|    6|        4|null|\n",
            "|           Australia|            Victoria|2020-03-20|27673|        Victoria|-37.8136| 144.9631|      121|    0|        8|null|\n",
            "|           Australia|          Queensland|2020-03-20|27674|      Queensland|-28.0167|    153.4|      184|    0|        8|null|\n",
            "|            Cambodia|          Phnom Penh|2020-03-20|27675|            null|   11.55| 104.9167|       51|    0|        1|null|\n",
            "|           Sri Lanka|Sri Jayawardenapu...|2020-03-20|27676|            null|     7.0|     81.0|       73|    0|        3|null|\n",
            "|             Germany|              Berlin|2020-03-20|27677|            null|    51.0|      9.0|    19848|   67|      180|null|\n",
            "|             Finland|            Helsinki|2020-03-20|27678|            null|    64.0|     26.0|      450|    0|       10|null|\n",
            "|United Arab Emirates|           Abu Dhabi|2020-03-20|27679|            null|    24.0|     54.0|      140|    2|       31|null|\n",
            "|         Philippines|              Manila|2020-03-20|27680|            null|    13.0|    122.0|      230|   18|        8|null|\n",
            "|               India|           New Delhi|2020-03-20|27681|            null|    21.0|     78.0|      244|    5|       20|null|\n",
            "|               Italy|                Rome|2020-03-20|27682|            null|    43.0|     12.0|    47021| 4032|     4440|null|\n",
            "|              Sweden|           Stockholm|2020-03-20|27683|            null|    63.0|     16.0|     1639|   16|       16|null|\n",
            "|               Spain|              Toledo|2020-03-20|27684|            null|    40.0|     -4.0|    20410| 1043|     1588|null|\n",
            "|           Australia|     South Australia|2020-03-20|27685| South Australia|-34.9285| 138.6007|       50|    0|        3|null|\n",
            "+--------------------+--------------------+----------+-----+----------------+--------+---------+---------+-----+---------+----+\n",
            "only showing top 20 rows\n",
            "\n"
          ],
          "name": "stdout"
        }
      ]
    },
    {
      "cell_type": "code",
      "metadata": {
        "id": "_VgBsvynCSOg",
        "colab_type": "code",
        "colab": {
          "base_uri": "https://localhost:8080/",
          "height": 289
        },
        "outputId": "6e2c69cf-a125-42c7-b8e8-012934a87f13"
      },
      "source": [
        "corona_df.join(corona_df.groupBy('Country','state_cleaned').agg(F.max('date').alias('Date')),on=['country','state_cleaned','Date'],how='inner').sort('confirmed', ascending = False).show(10)"
      ],
      "execution_count": 106,
      "outputs": [
        {
          "output_type": "stream",
          "text": [
            "+--------------+----------------+----------+-----+--------------+-------+-------------------+---------+-----+---------+--------+\n",
            "|       Country|   state_cleaned|      Date|  _c0|         State|    Lat|               Long|Confirmed|Death|Recovered|    City|\n",
            "+--------------+----------------+----------+-----+--------------+-------+-------------------+---------+-----+---------+--------+\n",
            "|         China|           Hubei|2020-03-20|27820|         Hubei|30.9756|           112.2707|    67800| 3133|    58382|    null|\n",
            "|         Italy|            Rome|2020-03-20|27682|          null|   43.0|               12.0|    47021| 4032|     4440|    null|\n",
            "|         Spain|          Toledo|2020-03-20|27684|          null|   40.0|               -4.0|    20410| 1043|     1588|    null|\n",
            "|       Germany|          Berlin|2020-03-20|27677|          null|   51.0|                9.0|    19848|   67|      180|    null|\n",
            "|          Iran|          Tehran|2020-03-20|27821|          null|   32.0|               53.0|    19644| 1433|     6745|    null|\n",
            "|        France|          France|2020-03-20|27823|        France|46.2276|             2.2137|    12612|  450|       12|    null|\n",
            "|  Korea, South|Gyeongsangbuk-do|2020-03-20|27822|          null|   36.0|              128.0|     8652|   94|     1540|    null|\n",
            "|            US|        New York|2020-03-20|27765|      New York|42.1657|           -74.9481|     8310|   42|        0|New York|\n",
            "|   Switzerland|            Bern|2020-03-20|27697|          null|46.8182|             8.2275|     5294|   54|       15|    null|\n",
            "|United Kingdom|  United Kingdom|2020-03-20|28069|United Kingdom|55.3781|-3.4360000000000004|     3983|  177|       65|    null|\n",
            "+--------------+----------------+----------+-----+--------------+-------+-------------------+---------+-----+---------+--------+\n",
            "only showing top 10 rows\n",
            "\n"
          ],
          "name": "stdout"
        }
      ]
    },
    {
      "cell_type": "code",
      "metadata": {
        "id": "0orTZekIhqjV",
        "colab_type": "code",
        "colab": {
          "base_uri": "https://localhost:8080/",
          "height": 459
        },
        "outputId": "e4b5a625-6c62-4a9d-a044-4104907a8926"
      },
      "source": [
        "from pyspark.sql.functions import row_number\n",
        "from pyspark.sql.window import Window\n",
        "\n",
        "ws=Window().partitionBy(\"Country\",\"State_cleaned\").orderBy(col(\"Date\").desc())\n",
        "\n",
        "corona_df.withColumn(\"row_num\",row_number().over(ws)).show()"
      ],
      "execution_count": 109,
      "outputs": [
        {
          "output_type": "stream",
          "text": [
            "+-----+-----+--------+------------------+-------+----------+---------+-----+---------+-------------+----+-------+\n",
            "|  _c0|State| Country|               Lat|   Long|      Date|Confirmed|Death|Recovered|state_cleaned|City|row_num|\n",
            "+-----+-----+--------+------------------+-------+----------+---------+-----+---------+-------------+----+-------+\n",
            "|27745| null|Cameroon|3.8480000000000003|11.5021|2020-03-20|       20|    0|        0|      Yaounde|null|      1|\n",
            "|27268| null|Cameroon|3.8480000000000003|11.5021|2020-03-19|       13|    0|        0|      Yaounde|null|      2|\n",
            "|26791| null|Cameroon|3.8480000000000003|11.5021|2020-03-18|       10|    0|        0|      Yaounde|null|      3|\n",
            "|26314| null|Cameroon|3.8480000000000003|11.5021|2020-03-17|       10|    0|        0|      Yaounde|null|      4|\n",
            "|25837| null|Cameroon|3.8480000000000003|11.5021|2020-03-16|        4|    0|        0|      Yaounde|null|      5|\n",
            "|25360| null|Cameroon|3.8480000000000003|11.5021|2020-03-15|        2|    0|        0|      Yaounde|null|      6|\n",
            "|24883| null|Cameroon|3.8480000000000003|11.5021|2020-03-14|        2|    0|        0|      Yaounde|null|      7|\n",
            "|24406| null|Cameroon|3.8480000000000003|11.5021|2020-03-13|        2|    0|        0|      Yaounde|null|      8|\n",
            "|23929| null|Cameroon|3.8480000000000003|11.5021|2020-03-12|        2|    0|        0|      Yaounde|null|      9|\n",
            "|23452| null|Cameroon|3.8480000000000003|11.5021|2020-03-11|        2|    0|        0|      Yaounde|null|     10|\n",
            "|22975| null|Cameroon|3.8480000000000003|11.5021|2020-03-10|        2|    0|        0|      Yaounde|null|     11|\n",
            "|22498| null|Cameroon|3.8480000000000003|11.5021|2020-03-09|        2|    0|        0|      Yaounde|null|     12|\n",
            "|22021| null|Cameroon|3.8480000000000003|11.5021|2020-03-08|        2|    0|        0|      Yaounde|null|     13|\n",
            "|21544| null|Cameroon|3.8480000000000003|11.5021|2020-03-07|        1|    0|        0|      Yaounde|null|     14|\n",
            "|21067| null|Cameroon|3.8480000000000003|11.5021|2020-03-06|        1|    0|        0|      Yaounde|null|     15|\n",
            "|20590| null|Cameroon|3.8480000000000003|11.5021|2020-03-05|        0|    0|        0|      Yaounde|null|     16|\n",
            "|20113| null|Cameroon|3.8480000000000003|11.5021|2020-03-04|        0|    0|        0|      Yaounde|null|     17|\n",
            "|19636| null|Cameroon|3.8480000000000003|11.5021|2020-03-03|        0|    0|        0|      Yaounde|null|     18|\n",
            "|19159| null|Cameroon|3.8480000000000003|11.5021|2020-03-02|        0|    0|        0|      Yaounde|null|     19|\n",
            "|18682| null|Cameroon|3.8480000000000003|11.5021|2020-03-01|        0|    0|        0|      Yaounde|null|     20|\n",
            "+-----+-----+--------+------------------+-------+----------+---------+-----+---------+-------------+----+-------+\n",
            "only showing top 20 rows\n",
            "\n"
          ],
          "name": "stdout"
        }
      ]
    },
    {
      "cell_type": "code",
      "metadata": {
        "id": "bLBkbAi9kiwh",
        "colab_type": "code",
        "colab": {
          "base_uri": "https://localhost:8080/",
          "height": 459
        },
        "outputId": "e84d35ca-edfb-48bc-cc0c-cba8d03784a8"
      },
      "source": [
        "corona_df.withColumn('row_num',row_number().over(ws)).where(col('row_num')==1).show()"
      ],
      "execution_count": 110,
      "outputs": [
        {
          "output_type": "stream",
          "text": [
            "+-----+--------------------+--------------+------------------+---------+----------+---------+-----+---------+--------------------+--------+-------+\n",
            "|  _c0|               State|       Country|               Lat|     Long|      Date|Confirmed|Death|Recovered|       state_cleaned|    City|row_num|\n",
            "+-----+--------------------+--------------+------------------+---------+----------+---------+-----+---------+--------------------+--------+-------+\n",
            "|27745|                null|      Cameroon|3.8480000000000003|  11.5021|2020-03-20|       20|    0|        0|             Yaounde|    null|      1|\n",
            "|27859|             Qinghai|         China|           35.7452|  95.9956|2020-03-20|       18|    0|       18|             Qinghai|    null|      1|\n",
            "|27762|                null|        Cyprus|           35.1264|  33.4299|2020-03-20|       67|    0|        0|             Nicosia|    null|      1|\n",
            "|27812|            Michigan|            US|           43.3266| -84.5361|2020-03-20|      552|    3|        0|            Michigan|Michigan|      1|\n",
            "|27725|                null|      Portugal|           39.3999|  -8.2245|2020-03-20|     1020|    6|        5|              Lisbon|    null|      1|\n",
            "|27771|            Colorado|            US|           39.0598|-105.3111|2020-03-20|      363|    4|        0|            Colorado|Colorado|      1|\n",
            "|28115|      Cayman Islands|United Kingdom|           19.3133| -81.2546|2020-03-20|        3|    1|        0|      Cayman Islands|    null|      1|\n",
            "|27844|              Hainan|         China|           19.1959| 109.7453|2020-03-20|      168|    6|      161|              Hainan|    null|      1|\n",
            "|27805|            Missouri|            US|           38.4561| -92.2884|2020-03-20|       53|    2|        0|            Missouri|Missouri|      1|\n",
            "|28068|Australian Capita...|     Australia|          -35.4735| 149.0124|2020-03-20|        6|    0|        0|Australian Capita...|    null|      1|\n",
            "|28097|                Guam|            US|           13.4443| 144.7937|2020-03-20|       14|    0|        0|                Guam|    Guam|      1|\n",
            "|28116|             Reunion|        France|          -21.1351|  55.2471|2020-03-20|       28|    0|        0|             Reunion|    null|      1|\n",
            "|27746|                null|      Colombia|            4.5709| -74.2973|2020-03-20|      128|    0|        1|        Cundinamarca|    null|      1|\n",
            "|28066|                null|          Cuba|              22.0|    -80.0|2020-03-20|       16|    1|        0|              Havana|    null|      1|\n",
            "|28120|                null|     Mauritius|             -20.2|     57.5|2020-03-20|       12|    0|        0|          Port Louis|    null|      1|\n",
            "|27735|                null|       Ukraine|           48.3794|  31.1656|2020-03-20|       29|    3|        0|                Kiev|    null|      1|\n",
            "|28109|                null|         Benin|            9.3077|   2.3158|2020-03-20|        2|    0|        0|          Porto-Novo|    null|      1|\n",
            "|27697|                null|   Switzerland|           46.8182|   8.2275|2020-03-20|     5294|   54|       15|                Bern|    null|      1|\n",
            "|27752|                null|         Malta|           35.9375|  14.3754|2020-03-20|       64|    0|        2|               Mgarr|    null|      1|\n",
            "|28141|         Isle of Man|United Kingdom|           54.2361|  -4.5481|2020-03-20|        1|    0|        0|         Isle of Man|    null|      1|\n",
            "+-----+--------------------+--------------+------------------+---------+----------+---------+-----+---------+--------------------+--------+-------+\n",
            "only showing top 20 rows\n",
            "\n"
          ],
          "name": "stdout"
        }
      ]
    },
    {
      "cell_type": "code",
      "metadata": {
        "id": "hXBSNfW2kjaT",
        "colab_type": "code",
        "colab": {}
      },
      "source": [
        "corona_max_df= corona_df.join(corona_df.groupBy('Country','state_cleaned').agg(F.max('date').alias('Date')),on=['country','state_cleaned','Date'],how='inner')"
      ],
      "execution_count": 111,
      "outputs": []
    },
    {
      "cell_type": "code",
      "metadata": {
        "id": "ymgNSte-kkE_",
        "colab_type": "code",
        "colab": {
          "base_uri": "https://localhost:8080/",
          "height": 459
        },
        "outputId": "9d704a2c-a03d-40f8-a4a0-158b866fa8b5"
      },
      "source": [
        "corona_max_df.show()"
      ],
      "execution_count": 112,
      "outputs": [
        {
          "output_type": "stream",
          "text": [
            "+--------------------+--------------------+----------+-----+----------------+--------+---------+---------+-----+---------+----+\n",
            "|             Country|       state_cleaned|      Date|  _c0|           State|     Lat|     Long|Confirmed|Death|Recovered|City|\n",
            "+--------------------+--------------------+----------+-----+----------------+--------+---------+---------+-----+---------+----+\n",
            "|            Thailand|             Bangkok|2020-03-20|27666|            null|    15.0|    101.0|      322|    1|       42|null|\n",
            "|               Japan|             Hiraide|2020-03-20|27667|            null|    36.0|    138.0|      963|   33|      191|null|\n",
            "|           Singapore|           Singapore|2020-03-20|27668|            null|  1.2833| 103.8333|      385|    0|      124|null|\n",
            "|               Nepal|           Kathmandu|2020-03-20|27669|            null| 28.1667|    84.25|        1|    0|        1|null|\n",
            "|            Malaysia|             Sarawak|2020-03-20|27670|            null|     2.5|    112.5|     1030|    3|       87|null|\n",
            "|              Canada|    British Columbia|2020-03-20|27671|British Columbia| 49.2827|-123.1207|      271|    8|        4|null|\n",
            "|           Australia|     New South Wales|2020-03-20|27672| New South Wales|-33.8688| 151.2093|      353|    6|        4|null|\n",
            "|           Australia|            Victoria|2020-03-20|27673|        Victoria|-37.8136| 144.9631|      121|    0|        8|null|\n",
            "|           Australia|          Queensland|2020-03-20|27674|      Queensland|-28.0167|    153.4|      184|    0|        8|null|\n",
            "|            Cambodia|          Phnom Penh|2020-03-20|27675|            null|   11.55| 104.9167|       51|    0|        1|null|\n",
            "|           Sri Lanka|Sri Jayawardenapu...|2020-03-20|27676|            null|     7.0|     81.0|       73|    0|        3|null|\n",
            "|             Germany|              Berlin|2020-03-20|27677|            null|    51.0|      9.0|    19848|   67|      180|null|\n",
            "|             Finland|            Helsinki|2020-03-20|27678|            null|    64.0|     26.0|      450|    0|       10|null|\n",
            "|United Arab Emirates|           Abu Dhabi|2020-03-20|27679|            null|    24.0|     54.0|      140|    2|       31|null|\n",
            "|         Philippines|              Manila|2020-03-20|27680|            null|    13.0|    122.0|      230|   18|        8|null|\n",
            "|               India|           New Delhi|2020-03-20|27681|            null|    21.0|     78.0|      244|    5|       20|null|\n",
            "|               Italy|                Rome|2020-03-20|27682|            null|    43.0|     12.0|    47021| 4032|     4440|null|\n",
            "|              Sweden|           Stockholm|2020-03-20|27683|            null|    63.0|     16.0|     1639|   16|       16|null|\n",
            "|               Spain|              Toledo|2020-03-20|27684|            null|    40.0|     -4.0|    20410| 1043|     1588|null|\n",
            "|           Australia|     South Australia|2020-03-20|27685| South Australia|-34.9285| 138.6007|       50|    0|        3|null|\n",
            "+--------------------+--------------------+----------+-----+----------------+--------+---------+---------+-----+---------+----+\n",
            "only showing top 20 rows\n",
            "\n"
          ],
          "name": "stdout"
        }
      ]
    },
    {
      "cell_type": "code",
      "metadata": {
        "id": "jCBSjAsokkCX",
        "colab_type": "code",
        "colab": {
          "base_uri": "https://localhost:8080/",
          "height": 479
        },
        "outputId": "f62bf292-292b-4498-926b-a46935d00b74"
      },
      "source": [
        "corona_df.groupBy('country').pivot('date').agg(F.sum('confirmed')).show()"
      ],
      "execution_count": 117,
      "outputs": [
        {
          "output_type": "stream",
          "text": [
            "+-----------+----------+----------+----------+----------+----------+----------+----------+----------+----------+----------+----------+----------+----------+----------+----------+----------+----------+----------+----------+----------+----------+----------+----------+----------+----------+----------+----------+----------+----------+----------+----------+----------+----------+----------+----------+----------+----------+----------+----------+----------+----------+----------+----------+----------+----------+----------+----------+----------+----------+----------+----------+----------+----------+----------+----------+----------+----------+----------+----------+\n",
            "|    country|2020-01-22|2020-01-23|2020-01-24|2020-01-25|2020-01-26|2020-01-27|2020-01-28|2020-01-29|2020-01-30|2020-01-31|2020-02-01|2020-02-02|2020-02-03|2020-02-04|2020-02-05|2020-02-06|2020-02-07|2020-02-08|2020-02-09|2020-02-10|2020-02-11|2020-02-12|2020-02-13|2020-02-14|2020-02-15|2020-02-16|2020-02-17|2020-02-18|2020-02-19|2020-02-20|2020-02-21|2020-02-22|2020-02-23|2020-02-24|2020-02-25|2020-02-26|2020-02-27|2020-02-28|2020-02-29|2020-03-01|2020-03-02|2020-03-03|2020-03-04|2020-03-05|2020-03-06|2020-03-07|2020-03-08|2020-03-09|2020-03-10|2020-03-11|2020-03-12|2020-03-13|2020-03-14|2020-03-15|2020-03-16|2020-03-17|2020-03-18|2020-03-19|2020-03-20|\n",
            "+-----------+----------+----------+----------+----------+----------+----------+----------+----------+----------+----------+----------+----------+----------+----------+----------+----------+----------+----------+----------+----------+----------+----------+----------+----------+----------+----------+----------+----------+----------+----------+----------+----------+----------+----------+----------+----------+----------+----------+----------+----------+----------+----------+----------+----------+----------+----------+----------+----------+----------+----------+----------+----------+----------+----------+----------+----------+----------+----------+----------+\n",
            "|       Chad|         0|         0|         0|         0|         0|         0|         0|         0|         0|         0|         0|         0|         0|         0|         0|         0|         0|         0|         0|         0|         0|         0|         0|         0|         0|         0|         0|         0|         0|         0|         0|         0|         0|         0|         0|         0|         0|         0|         0|         0|         0|         0|         0|         0|         0|         0|         0|         0|         0|         0|         0|         0|         0|         0|         0|         0|         0|         1|         1|\n",
            "|     Russia|         0|         0|         0|         0|         0|         0|         0|         0|         0|         2|         2|         2|         2|         2|         2|         2|         2|         2|         2|         2|         2|         2|         2|         2|         2|         2|         2|         2|         2|         2|         2|         2|         2|         2|         2|         2|         2|         2|         2|         2|         3|         3|         3|         4|        13|        13|        17|        17|        20|        20|        28|        45|        59|        63|        90|       114|       147|       199|       253|\n",
            "|   Paraguay|         0|         0|         0|         0|         0|         0|         0|         0|         0|         0|         0|         0|         0|         0|         0|         0|         0|         0|         0|         0|         0|         0|         0|         0|         0|         0|         0|         0|         0|         0|         0|         0|         0|         0|         0|         0|         0|         0|         0|         0|         0|         0|         0|         0|         0|         0|         1|         1|         1|         5|         5|         6|         6|         6|         8|         9|        11|        11|        13|\n",
            "|    Senegal|         0|         0|         0|         0|         0|         0|         0|         0|         0|         0|         0|         0|         0|         0|         0|         0|         0|         0|         0|         0|         0|         0|         0|         0|         0|         0|         0|         0|         0|         0|         0|         0|         0|         0|         0|         0|         0|         0|         0|         0|         1|         2|         4|         4|         4|         4|         4|         4|         4|         4|         4|        10|        10|        24|        24|        26|        31|        31|        38|\n",
            "| Cabo Verde|         0|         0|         0|         0|         0|         0|         0|         0|         0|         0|         0|         0|         0|         0|         0|         0|         0|         0|         0|         0|         0|         0|         0|         0|         0|         0|         0|         0|         0|         0|         0|         0|         0|         0|         0|         0|         0|         0|         0|         0|         0|         0|         0|         0|         0|         0|         0|         0|         0|         0|         0|         0|         0|         0|         0|         0|         0|         0|         1|\n",
            "|     Sweden|         0|         0|         0|         0|         0|         0|         0|         0|         0|         1|         1|         1|         1|         1|         1|         1|         1|         1|         1|         1|         1|         1|         1|         1|         1|         1|         1|         1|         1|         1|         1|         1|         1|         1|         1|         2|         7|         7|        12|        14|        15|        21|        35|        94|       101|       161|       203|       248|       355|       500|       599|       814|       961|      1022|      1103|      1190|      1279|      1439|      1639|\n",
            "|     Guyana|         0|         0|         0|         0|         0|         0|         0|         0|         0|         0|         0|         0|         0|         0|         0|         0|         0|         0|         0|         0|         0|         0|         0|         0|         0|         0|         0|         0|         0|         0|         0|         0|         0|         0|         0|         0|         0|         0|         0|         0|         0|         0|         0|         0|         0|         0|         0|         0|         0|         0|         1|         1|         1|         4|         4|         7|         7|         7|         7|\n",
            "|Philippines|         0|         0|         0|         0|         0|         0|         0|         0|         1|         1|         1|         2|         2|         2|         2|         2|         3|         3|         3|         3|         3|         3|         3|         3|         3|         3|         3|         3|         3|         3|         3|         3|         3|         3|         3|         3|         3|         3|         3|         3|         3|         3|         3|         3|         5|         6|        10|        20|        33|        49|        52|        64|       111|       140|       142|       187|       202|       217|       230|\n",
            "|   Djibouti|         0|         0|         0|         0|         0|         0|         0|         0|         0|         0|         0|         0|         0|         0|         0|         0|         0|         0|         0|         0|         0|         0|         0|         0|         0|         0|         0|         0|         0|         0|         0|         0|         0|         0|         0|         0|         0|         0|         0|         0|         0|         0|         0|         0|         0|         0|         0|         0|         0|         0|         0|         0|         0|         0|         0|         0|         1|         1|         1|\n",
            "|  Singapore|         0|         1|         3|         3|         4|         5|         7|         7|        10|        13|        16|        18|        18|        24|        28|        28|        30|        33|        40|        45|        47|        50|        58|        67|        72|        75|        77|        81|        84|        84|        85|        85|        89|        89|        91|        93|        93|        93|       102|       106|       108|       110|       110|       117|       130|       138|       150|       150|       160|       178|       178|       200|       212|       226|       243|       266|       313|       345|       385|\n",
            "|   Malaysia|         0|         0|         0|         3|         4|         4|         4|         7|         8|         8|         8|         8|         8|        10|        12|        12|        12|        16|        16|        18|        18|        18|        19|        19|        22|        22|        22|        22|        22|        22|        22|        22|        22|        22|        22|        22|        23|        23|        25|        29|        29|        36|        50|        50|        83|        93|        99|       117|       129|       149|       149|       197|       238|       428|       566|       673|       790|       900|      1030|\n",
            "|       Fiji|         0|         0|         0|         0|         0|         0|         0|         0|         0|         0|         0|         0|         0|         0|         0|         0|         0|         0|         0|         0|         0|         0|         0|         0|         0|         0|         0|         0|         0|         0|         0|         0|         0|         0|         0|         0|         0|         0|         0|         0|         0|         0|         0|         0|         0|         0|         0|         0|         0|         0|         0|         0|         0|         0|         0|         0|         0|         1|         1|\n",
            "|     Turkey|         0|         0|         0|         0|         0|         0|         0|         0|         0|         0|         0|         0|         0|         0|         0|         0|         0|         0|         0|         0|         0|         0|         0|         0|         0|         0|         0|         0|         0|         0|         0|         0|         0|         0|         0|         0|         0|         0|         0|         0|         0|         0|         0|         0|         0|         0|         0|         0|         0|         1|         1|         5|         5|         6|        18|        47|        98|       192|       359|\n",
            "|       Iraq|         0|         0|         0|         0|         0|         0|         0|         0|         0|         0|         0|         0|         0|         0|         0|         0|         0|         0|         0|         0|         0|         0|         0|         0|         0|         0|         0|         0|         0|         0|         0|         0|         0|         1|         1|         5|         7|         7|        13|        19|        26|        32|        35|        35|        40|        54|        60|        60|        71|        71|        71|       101|       110|       116|       124|       154|       164|       192|       208|\n",
            "|    Germany|         0|         0|         0|         0|         0|         1|         4|         4|         4|         5|         8|        10|        12|        12|        12|        12|        13|        13|        14|        14|        16|        16|        16|        16|        16|        16|        16|        16|        16|        16|        16|        16|        16|        16|        17|        27|        46|        48|        79|       130|       159|       196|       262|       482|       670|       799|      1040|      1176|      1457|      1908|      2078|      3675|      4585|      5795|      7272|      9257|     12327|     15320|     19848|\n",
            "|   Cambodia|         0|         0|         0|         0|         0|         1|         1|         1|         1|         1|         1|         1|         1|         1|         1|         1|         1|         1|         1|         1|         1|         1|         1|         1|         1|         1|         1|         1|         1|         1|         1|         1|         1|         1|         1|         1|         1|         1|         1|         1|         1|         1|         1|         1|         1|         1|         2|         2|         2|         3|         3|         5|         7|         7|         7|        33|        35|        37|        51|\n",
            "|Afghanistan|         0|         0|         0|         0|         0|         0|         0|         0|         0|         0|         0|         0|         0|         0|         0|         0|         0|         0|         0|         0|         0|         0|         0|         0|         0|         0|         0|         0|         0|         0|         0|         0|         0|         1|         1|         1|         1|         1|         1|         1|         1|         1|         1|         1|         1|         1|         4|         4|         5|         7|         7|         7|        11|        16|        21|        22|        22|        22|        24|\n",
            "|     Jordan|         0|         0|         0|         0|         0|         0|         0|         0|         0|         0|         0|         0|         0|         0|         0|         0|         0|         0|         0|         0|         0|         0|         0|         0|         0|         0|         0|         0|         0|         0|         0|         0|         0|         0|         0|         0|         0|         0|         0|         0|         0|         1|         1|         1|         1|         1|         1|         1|         1|         1|         1|         1|         1|         8|        17|        34|        52|        69|        85|\n",
            "|     Rwanda|         0|         0|         0|         0|         0|         0|         0|         0|         0|         0|         0|         0|         0|         0|         0|         0|         0|         0|         0|         0|         0|         0|         0|         0|         0|         0|         0|         0|         0|         0|         0|         0|         0|         0|         0|         0|         0|         0|         0|         0|         0|         0|         0|         0|         0|         0|         0|         0|         0|         0|         0|         0|         1|         1|         5|         7|         8|         8|        17|\n",
            "|   Maldives|         0|         0|         0|         0|         0|         0|         0|         0|         0|         0|         0|         0|         0|         0|         0|         0|         0|         0|         0|         0|         0|         0|         0|         0|         0|         0|         0|         0|         0|         0|         0|         0|         0|         0|         0|         0|         0|         0|         0|         0|         0|         0|         0|         0|         0|         0|         4|         4|         6|         8|         8|         9|        10|        13|        13|        13|        13|        13|        13|\n",
            "+-----------+----------+----------+----------+----------+----------+----------+----------+----------+----------+----------+----------+----------+----------+----------+----------+----------+----------+----------+----------+----------+----------+----------+----------+----------+----------+----------+----------+----------+----------+----------+----------+----------+----------+----------+----------+----------+----------+----------+----------+----------+----------+----------+----------+----------+----------+----------+----------+----------+----------+----------+----------+----------+----------+----------+----------+----------+----------+----------+----------+\n",
            "only showing top 20 rows\n",
            "\n"
          ],
          "name": "stdout"
        }
      ]
    },
    {
      "cell_type": "code",
      "metadata": {
        "id": "S26HiV20kj7g",
        "colab_type": "code",
        "colab": {
          "base_uri": "https://localhost:8080/",
          "height": 479
        },
        "outputId": "d276e9fb-c243-4fe3-844b-0706b0505078"
      },
      "source": [
        "corona_df.filter('country=\"US\"').crosstab('state','date').show()"
      ],
      "execution_count": 118,
      "outputs": [
        {
          "output_type": "stream",
          "text": [
            "+-------------------+----------+----------+----------+----------+----------+----------+----------+----------+----------+----------+----------+----------+----------+----------+----------+----------+----------+----------+----------+----------+----------+----------+----------+----------+----------+----------+----------+----------+----------+----------+----------+----------+----------+----------+----------+----------+----------+----------+----------+----------+----------+----------+----------+----------+----------+----------+----------+----------+----------+----------+----------+----------+----------+----------+----------+----------+----------+----------+----------+\n",
            "|         state_date|2020-01-22|2020-01-23|2020-01-24|2020-01-25|2020-01-26|2020-01-27|2020-01-28|2020-01-29|2020-01-30|2020-01-31|2020-02-01|2020-02-02|2020-02-03|2020-02-04|2020-02-05|2020-02-06|2020-02-07|2020-02-08|2020-02-09|2020-02-10|2020-02-11|2020-02-12|2020-02-13|2020-02-14|2020-02-15|2020-02-16|2020-02-17|2020-02-18|2020-02-19|2020-02-20|2020-02-21|2020-02-22|2020-02-23|2020-02-24|2020-02-25|2020-02-26|2020-02-27|2020-02-28|2020-02-29|2020-03-01|2020-03-02|2020-03-03|2020-03-04|2020-03-05|2020-03-06|2020-03-07|2020-03-08|2020-03-09|2020-03-10|2020-03-11|2020-03-12|2020-03-13|2020-03-14|2020-03-15|2020-03-16|2020-03-17|2020-03-18|2020-03-19|2020-03-20|\n",
            "+-------------------+----------+----------+----------+----------+----------+----------+----------+----------+----------+----------+----------+----------+----------+----------+----------+----------+----------+----------+----------+----------+----------+----------+----------+----------+----------+----------+----------+----------+----------+----------+----------+----------+----------+----------+----------+----------+----------+----------+----------+----------+----------+----------+----------+----------+----------+----------+----------+----------+----------+----------+----------+----------+----------+----------+----------+----------+----------+----------+----------+\n",
            "|         New Mexico|         1|         1|         1|         1|         1|         1|         1|         1|         1|         1|         1|         1|         1|         1|         1|         1|         1|         1|         1|         1|         1|         1|         1|         1|         1|         1|         1|         1|         1|         1|         1|         1|         1|         1|         1|         1|         1|         1|         1|         1|         1|         1|         1|         1|         1|         1|         1|         1|         1|         1|         1|         1|         1|         1|         1|         1|         1|         1|         1|\n",
            "|   Clark County, NV|         1|         1|         1|         1|         1|         1|         1|         1|         1|         1|         1|         1|         1|         1|         1|         1|         1|         1|         1|         1|         1|         1|         1|         1|         1|         1|         1|         1|         1|         1|         1|         1|         1|         1|         1|         1|         1|         1|         1|         1|         1|         1|         1|         1|         1|         1|         1|         1|         1|         1|         1|         1|         1|         1|         1|         1|         1|         1|         1|\n",
            "|         Summit, UT|         1|         1|         1|         1|         1|         1|         1|         1|         1|         1|         1|         1|         1|         1|         1|         1|         1|         1|         1|         1|         1|         1|         1|         1|         1|         1|         1|         1|         1|         1|         1|         1|         1|         1|         1|         1|         1|         1|         1|         1|         1|         1|         1|         1|         1|         1|         1|         1|         1|         1|         1|         1|         1|         1|         1|         1|         1|         1|         1|\n",
            "|     Montgomery, TX|         1|         1|         1|         1|         1|         1|         1|         1|         1|         1|         1|         1|         1|         1|         1|         1|         1|         1|         1|         1|         1|         1|         1|         1|         1|         1|         1|         1|         1|         1|         1|         1|         1|         1|         1|         1|         1|         1|         1|         1|         1|         1|         1|         1|         1|         1|         1|         1|         1|         1|         1|         1|         1|         1|         1|         1|         1|         1|         1|\n",
            "|           Dane, WI|         1|         1|         1|         1|         1|         1|         1|         1|         1|         1|         1|         1|         1|         1|         1|         1|         1|         1|         1|         1|         1|         1|         1|         1|         1|         1|         1|         1|         1|         1|         1|         1|         1|         1|         1|         1|         1|         1|         1|         1|         1|         1|         1|         1|         1|         1|         1|         1|         1|         1|         1|         1|         1|         1|         1|         1|         1|         1|         1|\n",
            "|Prince George's, MD|         1|         1|         1|         1|         1|         1|         1|         1|         1|         1|         1|         1|         1|         1|         1|         1|         1|         1|         1|         1|         1|         1|         1|         1|         1|         1|         1|         1|         1|         1|         1|         1|         1|         1|         1|         1|         1|         1|         1|         1|         1|         1|         1|         1|         1|         1|         1|         1|         1|         1|         1|         1|         1|         1|         1|         1|         1|         1|         1|\n",
            "|Maricopa County, AZ|         1|         1|         1|         1|         1|         1|         1|         1|         1|         1|         1|         1|         1|         1|         1|         1|         1|         1|         1|         1|         1|         1|         1|         1|         1|         1|         1|         1|         1|         1|         1|         1|         1|         1|         1|         1|         1|         1|         1|         1|         1|         1|         1|         1|         1|         1|         1|         1|         1|         1|         1|         1|         1|         1|         1|         1|         1|         1|         1|\n",
            "|  Harris County, TX|         1|         1|         1|         1|         1|         1|         1|         1|         1|         1|         1|         1|         1|         1|         1|         1|         1|         1|         1|         1|         1|         1|         1|         1|         1|         1|         1|         1|         1|         1|         1|         1|         1|         1|         1|         1|         1|         1|         1|         1|         1|         1|         1|         1|         1|         1|         1|         1|         1|         1|         1|         1|         1|         1|         1|         1|         1|         1|         1|\n",
            "|     New Castle, DE|         1|         1|         1|         1|         1|         1|         1|         1|         1|         1|         1|         1|         1|         1|         1|         1|         1|         1|         1|         1|         1|         1|         1|         1|         1|         1|         1|         1|         1|         1|         1|         1|         1|         1|         1|         1|         1|         1|         1|         1|         1|         1|         1|         1|         1|         1|         1|         1|         1|         1|         1|         1|         1|         1|         1|         1|         1|         1|         1|\n",
            "|      Deschutes, OR|         1|         1|         1|         1|         1|         1|         1|         1|         1|         1|         1|         1|         1|         1|         1|         1|         1|         1|         1|         1|         1|         1|         1|         1|         1|         1|         1|         1|         1|         1|         1|         1|         1|         1|         1|         1|         1|         1|         1|         1|         1|         1|         1|         1|         1|         1|         1|         1|         1|         1|         1|         1|         1|         1|         1|         1|         1|         1|         1|\n",
            "|        Connecticut|         1|         1|         1|         1|         1|         1|         1|         1|         1|         1|         1|         1|         1|         1|         1|         1|         1|         1|         1|         1|         1|         1|         1|         1|         1|         1|         1|         1|         1|         1|         1|         1|         1|         1|         1|         1|         1|         1|         1|         1|         1|         1|         1|         1|         1|         1|         1|         1|         1|         1|         1|         1|         1|         1|         1|         1|         1|         1|         1|\n",
            "|          Gregg, TX|         1|         1|         1|         1|         1|         1|         1|         1|         1|         1|         1|         1|         1|         1|         1|         1|         1|         1|         1|         1|         1|         1|         1|         1|         1|         1|         1|         1|         1|         1|         1|         1|         1|         1|         1|         1|         1|         1|         1|         1|         1|         1|         1|         1|         1|         1|         1|         1|         1|         1|         1|         1|         1|         1|         1|         1|         1|         1|         1|\n",
            "|    Wake County, NC|         1|         1|         1|         1|         1|         1|         1|         1|         1|         1|         1|         1|         1|         1|         1|         1|         1|         1|         1|         1|         1|         1|         1|         1|         1|         1|         1|         1|         1|         1|         1|         1|         1|         1|         1|         1|         1|         1|         1|         1|         1|         1|         1|         1|         1|         1|         1|         1|         1|         1|         1|         1|         1|         1|         1|         1|         1|         1|         1|\n",
            "|          Boone, IN|         1|         1|         1|         1|         1|         1|         1|         1|         1|         1|         1|         1|         1|         1|         1|         1|         1|         1|         1|         1|         1|         1|         1|         1|         1|         1|         1|         1|         1|         1|         1|         1|         1|         1|         1|         1|         1|         1|         1|         1|         1|         1|         1|         1|         1|         1|         1|         1|         1|         1|         1|         1|         1|         1|         1|         1|         1|         1|         1|\n",
            "|         Beadle, SD|         1|         1|         1|         1|         1|         1|         1|         1|         1|         1|         1|         1|         1|         1|         1|         1|         1|         1|         1|         1|         1|         1|         1|         1|         1|         1|         1|         1|         1|         1|         1|         1|         1|         1|         1|         1|         1|         1|         1|         1|         1|         1|         1|         1|         1|         1|         1|         1|         1|         1|         1|         1|         1|         1|         1|         1|         1|         1|         1|\n",
            "| Johnson County, IA|         1|         1|         1|         1|         1|         1|         1|         1|         1|         1|         1|         1|         1|         1|         1|         1|         1|         1|         1|         1|         1|         1|         1|         1|         1|         1|         1|         1|         1|         1|         1|         1|         1|         1|         1|         1|         1|         1|         1|         1|         1|         1|         1|         1|         1|         1|         1|         1|         1|         1|         1|         1|         1|         1|         1|         1|         1|         1|         1|\n",
            "|   Tulsa County, OK|         1|         1|         1|         1|         1|         1|         1|         1|         1|         1|         1|         1|         1|         1|         1|         1|         1|         1|         1|         1|         1|         1|         1|         1|         1|         1|         1|         1|         1|         1|         1|         1|         1|         1|         1|         1|         1|         1|         1|         1|         1|         1|         1|         1|         1|         1|         1|         1|         1|         1|         1|         1|         1|         1|         1|         1|         1|         1|         1|\n",
            "|         California|         1|         1|         1|         1|         1|         1|         1|         1|         1|         1|         1|         1|         1|         1|         1|         1|         1|         1|         1|         1|         1|         1|         1|         1|         1|         1|         1|         1|         1|         1|         1|         1|         1|         1|         1|         1|         1|         1|         1|         1|         1|         1|         1|         1|         1|         1|         1|         1|         1|         1|         1|         1|         1|         1|         1|         1|         1|         1|         1|\n",
            "|  Collin County, TX|         1|         1|         1|         1|         1|         1|         1|         1|         1|         1|         1|         1|         1|         1|         1|         1|         1|         1|         1|         1|         1|         1|         1|         1|         1|         1|         1|         1|         1|         1|         1|         1|         1|         1|         1|         1|         1|         1|         1|         1|         1|         1|         1|         1|         1|         1|         1|         1|         1|         1|         1|         1|         1|         1|         1|         1|         1|         1|         1|\n",
            "|       Charlton, GA|         1|         1|         1|         1|         1|         1|         1|         1|         1|         1|         1|         1|         1|         1|         1|         1|         1|         1|         1|         1|         1|         1|         1|         1|         1|         1|         1|         1|         1|         1|         1|         1|         1|         1|         1|         1|         1|         1|         1|         1|         1|         1|         1|         1|         1|         1|         1|         1|         1|         1|         1|         1|         1|         1|         1|         1|         1|         1|         1|\n",
            "+-------------------+----------+----------+----------+----------+----------+----------+----------+----------+----------+----------+----------+----------+----------+----------+----------+----------+----------+----------+----------+----------+----------+----------+----------+----------+----------+----------+----------+----------+----------+----------+----------+----------+----------+----------+----------+----------+----------+----------+----------+----------+----------+----------+----------+----------+----------+----------+----------+----------+----------+----------+----------+----------+----------+----------+----------+----------+----------+----------+----------+\n",
            "only showing top 20 rows\n",
            "\n"
          ],
          "name": "stdout"
        }
      ]
    },
    {
      "cell_type": "code",
      "metadata": {
        "id": "RfcV9IG3kj2J",
        "colab_type": "code",
        "colab": {
          "base_uri": "https://localhost:8080/",
          "height": 459
        },
        "outputId": "e8d5d845-9b6a-4679-8191-f2526ee8825d"
      },
      "source": [
        "corona_max_df.groupBy('country').agg(F.sum('confirmed')).show()"
      ],
      "execution_count": 119,
      "outputs": [
        {
          "output_type": "stream",
          "text": [
            "+-----------+--------------+\n",
            "|    country|sum(confirmed)|\n",
            "+-----------+--------------+\n",
            "|       Chad|             1|\n",
            "|   Paraguay|            13|\n",
            "|     Russia|           253|\n",
            "|    Senegal|            38|\n",
            "|     Sweden|          1639|\n",
            "| Cabo Verde|             1|\n",
            "|     Guyana|             7|\n",
            "|Philippines|           230|\n",
            "|   Djibouti|             1|\n",
            "|  Singapore|           385|\n",
            "|   Malaysia|          1030|\n",
            "|       Fiji|             1|\n",
            "|     Turkey|           359|\n",
            "|       Iraq|           208|\n",
            "|    Germany|         19848|\n",
            "|   Cambodia|            51|\n",
            "|Afghanistan|            24|\n",
            "|     Jordan|            85|\n",
            "|   Maldives|            13|\n",
            "|     Rwanda|            17|\n",
            "+-----------+--------------+\n",
            "only showing top 20 rows\n",
            "\n"
          ],
          "name": "stdout"
        }
      ]
    },
    {
      "cell_type": "code",
      "metadata": {
        "id": "dCBC3vrFkjyp",
        "colab_type": "code",
        "colab": {
          "base_uri": "https://localhost:8080/",
          "height": 459
        },
        "outputId": "01580999-b49d-40b7-d600-0d36d5c485c5"
      },
      "source": [
        "corona_max_df.groupBy('country').agg(F.sum('confirmed'),F.sum('Death'),F.sum('recovered')).orderBy('sum(confirmed)',ascending =False).show()"
      ],
      "execution_count": 120,
      "outputs": [
        {
          "output_type": "stream",
          "text": [
            "+--------------+--------------+----------+--------------+\n",
            "|       country|sum(confirmed)|sum(Death)|sum(recovered)|\n",
            "+--------------+--------------+----------+--------------+\n",
            "|         China|         81250|      3253|         71266|\n",
            "|         Italy|         47021|      4032|          4440|\n",
            "|         Spain|         20410|      1043|          1588|\n",
            "|       Germany|         19848|        67|           180|\n",
            "|          Iran|         19644|      1433|          6745|\n",
            "|            US|         19100|       244|             0|\n",
            "|        France|         12726|       450|            12|\n",
            "|  Korea, South|          8652|        94|          1540|\n",
            "|   Switzerland|          5294|        54|            15|\n",
            "|United Kingdom|          4014|       178|            67|\n",
            "|   Netherlands|          3003|       107|             2|\n",
            "|       Austria|          2388|         6|             9|\n",
            "|       Belgium|          2257|        37|             1|\n",
            "|        Norway|          1914|         7|             1|\n",
            "|        Sweden|          1639|        16|            16|\n",
            "|       Denmark|          1337|         9|             1|\n",
            "|      Malaysia|          1030|         3|            87|\n",
            "|      Portugal|          1020|         6|             5|\n",
            "|         Japan|           963|        33|           191|\n",
            "|        Canada|           943|        12|             9|\n",
            "+--------------+--------------+----------+--------------+\n",
            "only showing top 20 rows\n",
            "\n"
          ],
          "name": "stdout"
        }
      ]
    },
    {
      "cell_type": "code",
      "metadata": {
        "id": "pZn9Zq6ukjut",
        "colab_type": "code",
        "colab": {
          "base_uri": "https://localhost:8080/",
          "height": 459
        },
        "outputId": "ee878ed7-00db-4147-e37e-6adf432dc410"
      },
      "source": [
        "corona_df.filter('country=\"Italy\"').sort('Date',ascending = False).show()"
      ],
      "execution_count": 125,
      "outputs": [
        {
          "output_type": "stream",
          "text": [
            "+-----+-----+-------+----+----+----------+---------+-----+---------+-------------+----+\n",
            "|  _c0|State|Country| Lat|Long|      Date|Confirmed|Death|Recovered|state_cleaned|City|\n",
            "+-----+-----+-------+----+----+----------+---------+-----+---------+-------------+----+\n",
            "|27682| null|  Italy|43.0|12.0|2020-03-20|    47021| 4032|     4440|         Rome|null|\n",
            "|27205| null|  Italy|43.0|12.0|2020-03-19|    41035| 3405|     4440|         Rome|null|\n",
            "|26728| null|  Italy|43.0|12.0|2020-03-18|    35713| 2978|     4025|         Rome|null|\n",
            "|26251| null|  Italy|43.0|12.0|2020-03-17|    31506| 2503|     2941|         Rome|null|\n",
            "|25774| null|  Italy|43.0|12.0|2020-03-16|    27980| 2158|     2749|         Rome|null|\n",
            "|25297| null|  Italy|43.0|12.0|2020-03-15|    24747| 1809|     2335|         Rome|null|\n",
            "|24820| null|  Italy|43.0|12.0|2020-03-14|    21157| 1441|     1966|         Rome|null|\n",
            "|24343| null|  Italy|43.0|12.0|2020-03-13|    17660| 1266|     1439|         Rome|null|\n",
            "|23866| null|  Italy|43.0|12.0|2020-03-12|    12462|  827|     1045|         Rome|null|\n",
            "|23389| null|  Italy|43.0|12.0|2020-03-11|    12462|  827|     1045|         Rome|null|\n",
            "|22912| null|  Italy|43.0|12.0|2020-03-10|    10149|  631|      724|         Rome|null|\n",
            "|22435| null|  Italy|43.0|12.0|2020-03-09|     9172|  463|      724|         Rome|null|\n",
            "|21958| null|  Italy|43.0|12.0|2020-03-08|     7375|  366|      622|         Rome|null|\n",
            "|21481| null|  Italy|43.0|12.0|2020-03-07|     5883|  233|      589|         Rome|null|\n",
            "|21004| null|  Italy|43.0|12.0|2020-03-06|     4636|  197|      523|         Rome|null|\n",
            "|20527| null|  Italy|43.0|12.0|2020-03-05|     3858|  148|      414|         Rome|null|\n",
            "|20050| null|  Italy|43.0|12.0|2020-03-04|     3089|  107|      276|         Rome|null|\n",
            "|19573| null|  Italy|43.0|12.0|2020-03-03|     2502|   79|      160|         Rome|null|\n",
            "|19096| null|  Italy|43.0|12.0|2020-03-02|     2036|   52|      149|         Rome|null|\n",
            "|18619| null|  Italy|43.0|12.0|2020-03-01|     1694|   34|       83|         Rome|null|\n",
            "+-----+-----+-------+----+----+----------+---------+-----+---------+-------------+----+\n",
            "only showing top 20 rows\n",
            "\n"
          ],
          "name": "stdout"
        }
      ]
    },
    {
      "cell_type": "code",
      "metadata": {
        "id": "DMgbw08UkjqY",
        "colab_type": "code",
        "colab": {
          "base_uri": "https://localhost:8080/",
          "height": 459
        },
        "outputId": "4e4a2ff9-0c03-4ede-abb3-811a9ee7351b"
      },
      "source": [
        "corona_max_df.withColumn('Active',corona_max_df.Confirmed - corona_max_df.Recovered - corona_max_df.Death).sort('Active',ascending =False).show()"
      ],
      "execution_count": 127,
      "outputs": [
        {
          "output_type": "stream",
          "text": [
            "+--------------+----------------+----------+-----+--------------+-------+-------------------+---------+-----+---------+----------+------+\n",
            "|       Country|   state_cleaned|      Date|  _c0|         State|    Lat|               Long|Confirmed|Death|Recovered|      City|Active|\n",
            "+--------------+----------------+----------+-----+--------------+-------+-------------------+---------+-----+---------+----------+------+\n",
            "|         Italy|            Rome|2020-03-20|27682|          null|   43.0|               12.0|    47021| 4032|     4440|      null| 38549|\n",
            "|       Germany|          Berlin|2020-03-20|27677|          null|   51.0|                9.0|    19848|   67|      180|      null| 19601|\n",
            "|         Spain|          Toledo|2020-03-20|27684|          null|   40.0|               -4.0|    20410| 1043|     1588|      null| 17779|\n",
            "|        France|          France|2020-03-20|27823|        France|46.2276|             2.2137|    12612|  450|       12|      null| 12150|\n",
            "|          Iran|          Tehran|2020-03-20|27821|          null|   32.0|               53.0|    19644| 1433|     6745|      null| 11466|\n",
            "|            US|        New York|2020-03-20|27765|      New York|42.1657|           -74.9481|     8310|   42|        0|  New York|  8268|\n",
            "|  Korea, South|Gyeongsangbuk-do|2020-03-20|27822|          null|   36.0|              128.0|     8652|   94|     1540|      null|  7018|\n",
            "|         China|           Hubei|2020-03-20|27820|         Hubei|30.9756|           112.2707|    67800| 3133|    58382|      null|  6285|\n",
            "|   Switzerland|            Bern|2020-03-20|27697|          null|46.8182|             8.2275|     5294|   54|       15|      null|  5225|\n",
            "|United Kingdom|  United Kingdom|2020-03-20|28069|United Kingdom|55.3781|-3.4360000000000004|     3983|  177|       65|      null|  3741|\n",
            "|   Netherlands|     Netherlands|2020-03-20|28106|   Netherlands|52.1326|             5.2913|     2994|  106|        2|      null|  2886|\n",
            "|       Austria|          Vienna|2020-03-20|27698|          null|47.5162|            14.5501|     2388|    6|        9|      null|  2373|\n",
            "|       Belgium|        Brussels|2020-03-20|27686|          null|50.8333|                4.0|     2257|   37|        1|      null|  2219|\n",
            "|        Norway|             Hol|2020-03-20|27705|          null| 60.472|             8.4689|     1914|    7|        1|      null|  1906|\n",
            "|        Sweden|       Stockholm|2020-03-20|27683|          null|   63.0|               16.0|     1639|   16|       16|      null|  1607|\n",
            "|            US|      Washington|2020-03-20|27764|    Washington|47.4009|          -121.4905|     1524|   83|        0|Washington|  1441|\n",
            "|       Denmark|         Denmark|2020-03-20|27836|       Denmark|56.2639|             9.5018|     1255|    9|        1|      null|  1245|\n",
            "|            US|      California|2020-03-20|27766|    California|36.1162|          -119.6816|     1177|   23|        0|California|  1154|\n",
            "|      Portugal|          Lisbon|2020-03-20|27725|          null|39.3999|            -8.2245|     1020|    6|        5|      null|  1009|\n",
            "|      Malaysia|         Sarawak|2020-03-20|27670|          null|    2.5|              112.5|     1030|    3|       87|      null|   940|\n",
            "+--------------+----------------+----------+-----+--------------+-------+-------------------+---------+-----+---------+----------+------+\n",
            "only showing top 20 rows\n",
            "\n"
          ],
          "name": "stdout"
        }
      ]
    },
    {
      "cell_type": "code",
      "metadata": {
        "id": "zaYzQelfkjio",
        "colab_type": "code",
        "colab": {}
      },
      "source": [
        "corona_max_df = corona_max_df.withColumn('Active',corona_max_df.Confirmed - corona_max_df.Recovered - corona_max_df.Death)"
      ],
      "execution_count": 128,
      "outputs": []
    },
    {
      "cell_type": "code",
      "metadata": {
        "id": "SfEimYBbsM_g",
        "colab_type": "code",
        "colab": {
          "base_uri": "https://localhost:8080/",
          "height": 459
        },
        "outputId": "8c44d5f5-02cf-4221-84f4-9fdc751c4714"
      },
      "source": [
        "corona_max_df.show()"
      ],
      "execution_count": 129,
      "outputs": [
        {
          "output_type": "stream",
          "text": [
            "+--------------------+--------------------+----------+-----+----------------+--------+---------+---------+-----+---------+----+------+\n",
            "|             Country|       state_cleaned|      Date|  _c0|           State|     Lat|     Long|Confirmed|Death|Recovered|City|Active|\n",
            "+--------------------+--------------------+----------+-----+----------------+--------+---------+---------+-----+---------+----+------+\n",
            "|            Thailand|             Bangkok|2020-03-20|27666|            null|    15.0|    101.0|      322|    1|       42|null|   279|\n",
            "|               Japan|             Hiraide|2020-03-20|27667|            null|    36.0|    138.0|      963|   33|      191|null|   739|\n",
            "|           Singapore|           Singapore|2020-03-20|27668|            null|  1.2833| 103.8333|      385|    0|      124|null|   261|\n",
            "|               Nepal|           Kathmandu|2020-03-20|27669|            null| 28.1667|    84.25|        1|    0|        1|null|     0|\n",
            "|            Malaysia|             Sarawak|2020-03-20|27670|            null|     2.5|    112.5|     1030|    3|       87|null|   940|\n",
            "|              Canada|    British Columbia|2020-03-20|27671|British Columbia| 49.2827|-123.1207|      271|    8|        4|null|   259|\n",
            "|           Australia|     New South Wales|2020-03-20|27672| New South Wales|-33.8688| 151.2093|      353|    6|        4|null|   343|\n",
            "|           Australia|            Victoria|2020-03-20|27673|        Victoria|-37.8136| 144.9631|      121|    0|        8|null|   113|\n",
            "|           Australia|          Queensland|2020-03-20|27674|      Queensland|-28.0167|    153.4|      184|    0|        8|null|   176|\n",
            "|            Cambodia|          Phnom Penh|2020-03-20|27675|            null|   11.55| 104.9167|       51|    0|        1|null|    50|\n",
            "|           Sri Lanka|Sri Jayawardenapu...|2020-03-20|27676|            null|     7.0|     81.0|       73|    0|        3|null|    70|\n",
            "|             Germany|              Berlin|2020-03-20|27677|            null|    51.0|      9.0|    19848|   67|      180|null| 19601|\n",
            "|             Finland|            Helsinki|2020-03-20|27678|            null|    64.0|     26.0|      450|    0|       10|null|   440|\n",
            "|United Arab Emirates|           Abu Dhabi|2020-03-20|27679|            null|    24.0|     54.0|      140|    2|       31|null|   107|\n",
            "|         Philippines|              Manila|2020-03-20|27680|            null|    13.0|    122.0|      230|   18|        8|null|   204|\n",
            "|               India|           New Delhi|2020-03-20|27681|            null|    21.0|     78.0|      244|    5|       20|null|   219|\n",
            "|               Italy|                Rome|2020-03-20|27682|            null|    43.0|     12.0|    47021| 4032|     4440|null| 38549|\n",
            "|              Sweden|           Stockholm|2020-03-20|27683|            null|    63.0|     16.0|     1639|   16|       16|null|  1607|\n",
            "|               Spain|              Toledo|2020-03-20|27684|            null|    40.0|     -4.0|    20410| 1043|     1588|null| 17779|\n",
            "|           Australia|     South Australia|2020-03-20|27685| South Australia|-34.9285| 138.6007|       50|    0|        3|null|    47|\n",
            "+--------------------+--------------------+----------+-----+----------------+--------+---------+---------+-----+---------+----+------+\n",
            "only showing top 20 rows\n",
            "\n"
          ],
          "name": "stdout"
        }
      ]
    },
    {
      "cell_type": "code",
      "metadata": {
        "id": "0VLfE7YesNo5",
        "colab_type": "code",
        "colab": {
          "base_uri": "https://localhost:8080/",
          "height": 459
        },
        "outputId": "5737bb86-8af1-4a90-ef6f-c3d73b14e0cf"
      },
      "source": [
        "corona_max_df.groupBy('country').sum('active').orderBy('sum(active)', ascending = False).show()"
      ],
      "execution_count": 130,
      "outputs": [
        {
          "output_type": "stream",
          "text": [
            "+--------------+-----------+\n",
            "|       country|sum(active)|\n",
            "+--------------+-----------+\n",
            "|         Italy|      38549|\n",
            "|       Germany|      19601|\n",
            "|            US|      18856|\n",
            "|         Spain|      17779|\n",
            "|        France|      12264|\n",
            "|          Iran|      11466|\n",
            "|  Korea, South|       7018|\n",
            "|         China|       6731|\n",
            "|   Switzerland|       5225|\n",
            "|United Kingdom|       3769|\n",
            "|   Netherlands|       2894|\n",
            "|       Austria|       2373|\n",
            "|       Belgium|       2219|\n",
            "|        Norway|       1906|\n",
            "|        Sweden|       1607|\n",
            "|       Denmark|       1327|\n",
            "|      Portugal|       1009|\n",
            "|      Malaysia|        940|\n",
            "|        Canada|        922|\n",
            "|       Czechia|        829|\n",
            "+--------------+-----------+\n",
            "only showing top 20 rows\n",
            "\n"
          ],
          "name": "stdout"
        }
      ]
    },
    {
      "cell_type": "code",
      "metadata": {
        "id": "xl1QCOtXuPXC",
        "colab_type": "code",
        "colab": {}
      },
      "source": [
        "corona_max_df= corona_df.join(corona_df.groupBy('Country','state_cleaned').agg(F.max('date').alias('Date')),on=['country','state_cleaned','Date'],how='inner')"
      ],
      "execution_count": 135,
      "outputs": []
    },
    {
      "cell_type": "code",
      "metadata": {
        "id": "EgSsjJamuXJW",
        "colab_type": "code",
        "colab": {
          "base_uri": "https://localhost:8080/",
          "height": 459
        },
        "outputId": "b69ea14c-1d4b-4f5a-9314-d125e0946078"
      },
      "source": [
        "corona_max_df.show()"
      ],
      "execution_count": 136,
      "outputs": [
        {
          "output_type": "stream",
          "text": [
            "+--------------------+--------------------+----------+-----+----------------+--------+---------+---------+-----+---------+----+\n",
            "|             Country|       state_cleaned|      Date|  _c0|           State|     Lat|     Long|Confirmed|Death|Recovered|City|\n",
            "+--------------------+--------------------+----------+-----+----------------+--------+---------+---------+-----+---------+----+\n",
            "|            Thailand|             Bangkok|2020-03-20|27666|            null|    15.0|    101.0|      322|    1|       42|null|\n",
            "|               Japan|             Hiraide|2020-03-20|27667|            null|    36.0|    138.0|      963|   33|      191|null|\n",
            "|           Singapore|           Singapore|2020-03-20|27668|            null|  1.2833| 103.8333|      385|    0|      124|null|\n",
            "|               Nepal|           Kathmandu|2020-03-20|27669|            null| 28.1667|    84.25|        1|    0|        1|null|\n",
            "|            Malaysia|             Sarawak|2020-03-20|27670|            null|     2.5|    112.5|     1030|    3|       87|null|\n",
            "|              Canada|    British Columbia|2020-03-20|27671|British Columbia| 49.2827|-123.1207|      271|    8|        4|null|\n",
            "|           Australia|     New South Wales|2020-03-20|27672| New South Wales|-33.8688| 151.2093|      353|    6|        4|null|\n",
            "|           Australia|            Victoria|2020-03-20|27673|        Victoria|-37.8136| 144.9631|      121|    0|        8|null|\n",
            "|           Australia|          Queensland|2020-03-20|27674|      Queensland|-28.0167|    153.4|      184|    0|        8|null|\n",
            "|            Cambodia|          Phnom Penh|2020-03-20|27675|            null|   11.55| 104.9167|       51|    0|        1|null|\n",
            "|           Sri Lanka|Sri Jayawardenapu...|2020-03-20|27676|            null|     7.0|     81.0|       73|    0|        3|null|\n",
            "|             Germany|              Berlin|2020-03-20|27677|            null|    51.0|      9.0|    19848|   67|      180|null|\n",
            "|             Finland|            Helsinki|2020-03-20|27678|            null|    64.0|     26.0|      450|    0|       10|null|\n",
            "|United Arab Emirates|           Abu Dhabi|2020-03-20|27679|            null|    24.0|     54.0|      140|    2|       31|null|\n",
            "|         Philippines|              Manila|2020-03-20|27680|            null|    13.0|    122.0|      230|   18|        8|null|\n",
            "|               India|           New Delhi|2020-03-20|27681|            null|    21.0|     78.0|      244|    5|       20|null|\n",
            "|               Italy|                Rome|2020-03-20|27682|            null|    43.0|     12.0|    47021| 4032|     4440|null|\n",
            "|              Sweden|           Stockholm|2020-03-20|27683|            null|    63.0|     16.0|     1639|   16|       16|null|\n",
            "|               Spain|              Toledo|2020-03-20|27684|            null|    40.0|     -4.0|    20410| 1043|     1588|null|\n",
            "|           Australia|     South Australia|2020-03-20|27685| South Australia|-34.9285| 138.6007|       50|    0|        3|null|\n",
            "+--------------------+--------------------+----------+-----+----------------+--------+---------+---------+-----+---------+----+\n",
            "only showing top 20 rows\n",
            "\n"
          ],
          "name": "stdout"
        }
      ]
    },
    {
      "cell_type": "code",
      "metadata": {
        "id": "uHRcU2hjuXit",
        "colab_type": "code",
        "colab": {
          "base_uri": "https://localhost:8080/",
          "height": 136
        },
        "outputId": "6b53a1fd-933a-4605-c03e-381fe9fc63af"
      },
      "source": [
        "corona_max_df.select('country','state_cleaned','recovered','confirmed').filter(col('country').isin('Australia','China')).groupBy('country').sum().show(100)"
      ],
      "execution_count": 138,
      "outputs": [
        {
          "output_type": "stream",
          "text": [
            "+---------+--------------+--------------+\n",
            "|  country|sum(recovered)|sum(confirmed)|\n",
            "+---------+--------------+--------------+\n",
            "|    China|         71266|         81250|\n",
            "|Australia|            26|           791|\n",
            "+---------+--------------+--------------+\n",
            "\n"
          ],
          "name": "stdout"
        }
      ]
    },
    {
      "cell_type": "code",
      "metadata": {
        "id": "KjPdWofruXeZ",
        "colab_type": "code",
        "colab": {
          "base_uri": "https://localhost:8080/",
          "height": 153
        },
        "outputId": "4cba69a7-5f41-4693-aed5-40fb2c999a52"
      },
      "source": [
        "corona_max_df.select('country','state_cleaned','recovered','confirmed').filter(col('country').isin('Australia','China')).cube('country').sum().show(100)"
      ],
      "execution_count": 139,
      "outputs": [
        {
          "output_type": "stream",
          "text": [
            "+---------+--------------+--------------+\n",
            "|  country|sum(recovered)|sum(confirmed)|\n",
            "+---------+--------------+--------------+\n",
            "|Australia|            26|           791|\n",
            "|     null|         71292|         82041|\n",
            "|    China|         71266|         81250|\n",
            "+---------+--------------+--------------+\n",
            "\n"
          ],
          "name": "stdout"
        }
      ]
    },
    {
      "cell_type": "code",
      "metadata": {
        "id": "y-QKWv-0uXZV",
        "colab_type": "code",
        "colab": {
          "base_uri": "https://localhost:8080/",
          "height": 1000
        },
        "outputId": "a3747ab5-b9eb-4cc3-d7ae-3a4f3532f6a6"
      },
      "source": [
        "corona_max_df.select('country','state_cleaned','recovered','confirmed').filter(col('country').isin('Australia','China')).cube('country','state_cleaned').sum().sort(asc('country')).show(100)"
      ],
      "execution_count": 142,
      "outputs": [
        {
          "output_type": "stream",
          "text": [
            "+---------+--------------------+--------------+--------------+\n",
            "|  country|       state_cleaned|sum(recovered)|sum(confirmed)|\n",
            "+---------+--------------------+--------------+--------------+\n",
            "|     null|               Jilin|            92|            93|\n",
            "|     null|           Hong Kong|            98|           256|\n",
            "|     null|              Yunnan|           172|           176|\n",
            "|     null|               Gansu|            98|           134|\n",
            "|     null|                null|         71292|         82041|\n",
            "|     null|             Beijing|           390|           491|\n",
            "|     null|           Guangdong|          1323|          1395|\n",
            "|     null|          Queensland|             8|           184|\n",
            "|     null|               Henan|          1250|          1273|\n",
            "|     null|               Anhui|           984|           990|\n",
            "|     null|              Hainan|           161|           168|\n",
            "|     null|               Macau|            10|            17|\n",
            "|     null|From Diamond Prin...|             0|             0|\n",
            "|     null|        Heilongjiang|           463|           484|\n",
            "|     null|            Shandong|           748|           762|\n",
            "|     null|              Fujian|           295|           299|\n",
            "|     null|             Ningxia|            75|            75|\n",
            "|     null|   Western Australia|             0|            64|\n",
            "|     null|               Hunan|          1014|          1018|\n",
            "|     null|             Sichuan|           536|           541|\n",
            "|     null|           Chongqing|           570|           576|\n",
            "|     null|            Xinjiang|            73|            76|\n",
            "|     null|            Tasmania|             3|            10|\n",
            "|     null|  Northern Territory|             0|             3|\n",
            "|     null|               Hubei|         58382|         67800|\n",
            "|     null|Australian Capita...|             0|             6|\n",
            "|     null|             Qinghai|            18|            18|\n",
            "|     null|            Liaoning|           122|           126|\n",
            "|     null|            Shanghai|           326|           371|\n",
            "|     null|     New South Wales|             4|           353|\n",
            "|     null|             Guangxi|           250|           254|\n",
            "|     null|             Guizhou|           144|           146|\n",
            "|     null|              Shanxi|           133|           133|\n",
            "|     null|               Hebei|           310|           318|\n",
            "|     null|     South Australia|             3|            50|\n",
            "|     null|             Shaanxi|           237|           247|\n",
            "|     null|            Victoria|             8|           121|\n",
            "|     null|             Jiangxi|           934|           935|\n",
            "|     null|             Jiangsu|           631|           631|\n",
            "|     null|             Tianjin|           133|           137|\n",
            "|     null|            Zhejiang|          1219|          1234|\n",
            "|     null|      Inner Mongolia|            74|            75|\n",
            "|     null|               Tibet|             1|             1|\n",
            "|Australia|  Northern Territory|             0|             3|\n",
            "|Australia|                null|            26|           791|\n",
            "|Australia|            Tasmania|             3|            10|\n",
            "|Australia|     New South Wales|             4|           353|\n",
            "|Australia|     South Australia|             3|            50|\n",
            "|Australia|            Victoria|             8|           121|\n",
            "|Australia|From Diamond Prin...|             0|             0|\n",
            "|Australia|          Queensland|             8|           184|\n",
            "|Australia|Australian Capita...|             0|             6|\n",
            "|Australia|   Western Australia|             0|            64|\n",
            "|    China|           Chongqing|           570|           576|\n",
            "|    China|            Shandong|           748|           762|\n",
            "|    China|             Ningxia|            75|            75|\n",
            "|    China|               Anhui|           984|           990|\n",
            "|    China|                null|         71266|         81250|\n",
            "|    China|             Guangxi|           250|           254|\n",
            "|    China|             Jiangxi|           934|           935|\n",
            "|    China|             Qinghai|            18|            18|\n",
            "|    China|           Hong Kong|            98|           256|\n",
            "|    China|            Shanghai|           326|           371|\n",
            "|    China|             Tianjin|           133|           137|\n",
            "|    China|               Henan|          1250|          1273|\n",
            "|    China|           Guangdong|          1323|          1395|\n",
            "|    China|             Jiangsu|           631|           631|\n",
            "|    China|              Yunnan|           172|           176|\n",
            "|    China|               Hebei|           310|           318|\n",
            "|    China|              Shanxi|           133|           133|\n",
            "|    China|            Xinjiang|            73|            76|\n",
            "|    China|              Hainan|           161|           168|\n",
            "|    China|            Zhejiang|          1219|          1234|\n",
            "|    China|        Heilongjiang|           463|           484|\n",
            "|    China|             Sichuan|           536|           541|\n",
            "|    China|      Inner Mongolia|            74|            75|\n",
            "|    China|               Jilin|            92|            93|\n",
            "|    China|               Hubei|         58382|         67800|\n",
            "|    China|               Macau|            10|            17|\n",
            "|    China|               Gansu|            98|           134|\n",
            "|    China|             Guizhou|           144|           146|\n",
            "|    China|               Tibet|             1|             1|\n",
            "|    China|            Liaoning|           122|           126|\n",
            "|    China|              Fujian|           295|           299|\n",
            "|    China|               Hunan|          1014|          1018|\n",
            "|    China|             Beijing|           390|           491|\n",
            "|    China|             Shaanxi|           237|           247|\n",
            "+---------+--------------------+--------------+--------------+\n",
            "\n"
          ],
          "name": "stdout"
        }
      ]
    },
    {
      "cell_type": "code",
      "metadata": {
        "id": "uGV8VdKjxMkP",
        "colab_type": "code",
        "colab": {
          "base_uri": "https://localhost:8080/",
          "height": 867
        },
        "outputId": "ae58655e-44b8-4756-bb34-4f4486d08ac7"
      },
      "source": [
        "corona_max_df.select('country','state_cleaned','recovered','confirmed').filter(col('country').isin('Australia','China')).rollup('country','state_cleaned').sum().sort(asc('country')).show(100)"
      ],
      "execution_count": 144,
      "outputs": [
        {
          "output_type": "stream",
          "text": [
            "+---------+--------------------+--------------+--------------+\n",
            "|  country|       state_cleaned|sum(recovered)|sum(confirmed)|\n",
            "+---------+--------------------+--------------+--------------+\n",
            "|     null|                null|         71292|         82041|\n",
            "|Australia|                null|            26|           791|\n",
            "|Australia|            Tasmania|             3|            10|\n",
            "|Australia|From Diamond Prin...|             0|             0|\n",
            "|Australia|            Victoria|             8|           121|\n",
            "|Australia|     New South Wales|             4|           353|\n",
            "|Australia|          Queensland|             8|           184|\n",
            "|Australia|     South Australia|             3|            50|\n",
            "|Australia|Australian Capita...|             0|             6|\n",
            "|Australia|  Northern Territory|             0|             3|\n",
            "|Australia|   Western Australia|             0|            64|\n",
            "|    China|           Chongqing|           570|           576|\n",
            "|    China|            Shandong|           748|           762|\n",
            "|    China|             Ningxia|            75|            75|\n",
            "|    China|                null|         71266|         81250|\n",
            "|    China|              Shanxi|           133|           133|\n",
            "|    China|            Shanghai|           326|           371|\n",
            "|    China|               Anhui|           984|           990|\n",
            "|    China|             Qinghai|            18|            18|\n",
            "|    China|           Hong Kong|            98|           256|\n",
            "|    China|              Yunnan|           172|           176|\n",
            "|    China|              Hainan|           161|           168|\n",
            "|    China|            Zhejiang|          1219|          1234|\n",
            "|    China|             Jiangxi|           934|           935|\n",
            "|    China|             Guangxi|           250|           254|\n",
            "|    China|               Henan|          1250|          1273|\n",
            "|    China|             Jiangsu|           631|           631|\n",
            "|    China|               Hubei|         58382|         67800|\n",
            "|    China|               Hunan|          1014|          1018|\n",
            "|    China|               Hebei|           310|           318|\n",
            "|    China|             Guizhou|           144|           146|\n",
            "|    China|             Beijing|           390|           491|\n",
            "|    China|               Gansu|            98|           134|\n",
            "|    China|             Tianjin|           133|           137|\n",
            "|    China|              Fujian|           295|           299|\n",
            "|    China|        Heilongjiang|           463|           484|\n",
            "|    China|            Xinjiang|            73|            76|\n",
            "|    China|               Tibet|             1|             1|\n",
            "|    China|           Guangdong|          1323|          1395|\n",
            "|    China|             Sichuan|           536|           541|\n",
            "|    China|      Inner Mongolia|            74|            75|\n",
            "|    China|               Jilin|            92|            93|\n",
            "|    China|               Macau|            10|            17|\n",
            "|    China|            Liaoning|           122|           126|\n",
            "|    China|             Shaanxi|           237|           247|\n",
            "+---------+--------------------+--------------+--------------+\n",
            "\n"
          ],
          "name": "stdout"
        }
      ]
    },
    {
      "cell_type": "code",
      "metadata": {
        "id": "67bF5nOhxVoW",
        "colab_type": "code",
        "colab": {
          "base_uri": "https://localhost:8080/",
          "height": 34
        },
        "outputId": "8d5da68f-cbb1-45a5-b8d1-afad49cb9951"
      },
      "source": [
        "corona_max_df.corr('confirmed','recovered')"
      ],
      "execution_count": 145,
      "outputs": [
        {
          "output_type": "execute_result",
          "data": {
            "text/plain": [
              "0.8052934236742176"
            ]
          },
          "metadata": {
            "tags": []
          },
          "execution_count": 145
        }
      ]
    },
    {
      "cell_type": "code",
      "metadata": {
        "id": "YfWiP3C6xV5r",
        "colab_type": "code",
        "colab": {
          "base_uri": "https://localhost:8080/",
          "height": 54
        },
        "outputId": "229a946b-1218-4cf6-8666-ec8f48bba98c"
      },
      "source": [
        "corona_max_df.cache()"
      ],
      "execution_count": 146,
      "outputs": [
        {
          "output_type": "execute_result",
          "data": {
            "text/plain": [
              "DataFrame[Country: string, state_cleaned: string, Date: string, _c0: int, State: string, Lat: double, Long: double, Confirmed: int, Death: int, Recovered: int, City: string]"
            ]
          },
          "metadata": {
            "tags": []
          },
          "execution_count": 146
        }
      ]
    },
    {
      "cell_type": "code",
      "metadata": {
        "id": "oDWUaH0xxVyv",
        "colab_type": "code",
        "colab": {
          "base_uri": "https://localhost:8080/",
          "height": 51
        },
        "outputId": "393b3623-84c0-48e1-9e09-dff94fcd6a12"
      },
      "source": [
        "%timeit corona_max_df.count()"
      ],
      "execution_count": 147,
      "outputs": [
        {
          "output_type": "stream",
          "text": [
            "The slowest run took 25.44 times longer than the fastest. This could mean that an intermediate result is being cached.\n",
            "1 loop, best of 3: 71 ms per loop\n"
          ],
          "name": "stdout"
        }
      ]
    },
    {
      "cell_type": "code",
      "metadata": {
        "id": "U88_2NjryM8s",
        "colab_type": "code",
        "colab": {
          "base_uri": "https://localhost:8080/",
          "height": 54
        },
        "outputId": "d12dd3e8-eb05-4f1e-bddd-8b948345a97c"
      },
      "source": [
        "from pyspark import StorageLevel\n",
        "corona_max_df.persist(StorageLevel.MEMORY_AND_DISK)"
      ],
      "execution_count": 148,
      "outputs": [
        {
          "output_type": "execute_result",
          "data": {
            "text/plain": [
              "DataFrame[Country: string, state_cleaned: string, Date: string, _c0: int, State: string, Lat: double, Long: double, Confirmed: int, Death: int, Recovered: int, City: string]"
            ]
          },
          "metadata": {
            "tags": []
          },
          "execution_count": 148
        }
      ]
    },
    {
      "cell_type": "code",
      "metadata": {
        "id": "vS39t4-byNUM",
        "colab_type": "code",
        "colab": {
          "base_uri": "https://localhost:8080/",
          "height": 34
        },
        "outputId": "7fcba5a7-c45a-4551-b158-26a1cd5a4bc8"
      },
      "source": [
        "%timeit corona_max_df.count()"
      ],
      "execution_count": 150,
      "outputs": [
        {
          "output_type": "stream",
          "text": [
            "10 loops, best of 3: 55.9 ms per loop\n"
          ],
          "name": "stdout"
        }
      ]
    },
    {
      "cell_type": "code",
      "metadata": {
        "id": "xfp1LZjByNQJ",
        "colab_type": "code",
        "colab": {}
      },
      "source": [
        "pd = corona_max_df.toPandas()"
      ],
      "execution_count": 151,
      "outputs": []
    },
    {
      "cell_type": "code",
      "metadata": {
        "id": "RT93F1rsyNJB",
        "colab_type": "code",
        "colab": {
          "base_uri": "https://localhost:8080/",
          "height": 235
        },
        "outputId": "83762c72-9c64-4019-9d96-a630c72686da"
      },
      "source": [
        "pd.corr()"
      ],
      "execution_count": 154,
      "outputs": [
        {
          "output_type": "execute_result",
          "data": {
            "text/html": [
              "<div>\n",
              "<style scoped>\n",
              "    .dataframe tbody tr th:only-of-type {\n",
              "        vertical-align: middle;\n",
              "    }\n",
              "\n",
              "    .dataframe tbody tr th {\n",
              "        vertical-align: top;\n",
              "    }\n",
              "\n",
              "    .dataframe thead th {\n",
              "        text-align: right;\n",
              "    }\n",
              "</style>\n",
              "<table border=\"1\" class=\"dataframe\">\n",
              "  <thead>\n",
              "    <tr style=\"text-align: right;\">\n",
              "      <th></th>\n",
              "      <th>_c0</th>\n",
              "      <th>Lat</th>\n",
              "      <th>Long</th>\n",
              "      <th>Confirmed</th>\n",
              "      <th>Death</th>\n",
              "      <th>Recovered</th>\n",
              "    </tr>\n",
              "  </thead>\n",
              "  <tbody>\n",
              "    <tr>\n",
              "      <th>_c0</th>\n",
              "      <td>1.000000</td>\n",
              "      <td>-0.094019</td>\n",
              "      <td>-0.312907</td>\n",
              "      <td>-0.136334</td>\n",
              "      <td>-0.100278</td>\n",
              "      <td>-0.045917</td>\n",
              "    </tr>\n",
              "    <tr>\n",
              "      <th>Lat</th>\n",
              "      <td>-0.094019</td>\n",
              "      <td>1.000000</td>\n",
              "      <td>-0.383389</td>\n",
              "      <td>0.050988</td>\n",
              "      <td>0.034211</td>\n",
              "      <td>0.003501</td>\n",
              "    </tr>\n",
              "    <tr>\n",
              "      <th>Long</th>\n",
              "      <td>-0.312907</td>\n",
              "      <td>-0.383389</td>\n",
              "      <td>1.000000</td>\n",
              "      <td>0.128514</td>\n",
              "      <td>0.092183</td>\n",
              "      <td>0.113290</td>\n",
              "    </tr>\n",
              "    <tr>\n",
              "      <th>Confirmed</th>\n",
              "      <td>-0.136334</td>\n",
              "      <td>0.050988</td>\n",
              "      <td>0.128514</td>\n",
              "      <td>1.000000</td>\n",
              "      <td>0.926594</td>\n",
              "      <td>0.805293</td>\n",
              "    </tr>\n",
              "    <tr>\n",
              "      <th>Death</th>\n",
              "      <td>-0.100278</td>\n",
              "      <td>0.034211</td>\n",
              "      <td>0.092183</td>\n",
              "      <td>0.926594</td>\n",
              "      <td>1.000000</td>\n",
              "      <td>0.660208</td>\n",
              "    </tr>\n",
              "    <tr>\n",
              "      <th>Recovered</th>\n",
              "      <td>-0.045917</td>\n",
              "      <td>0.003501</td>\n",
              "      <td>0.113290</td>\n",
              "      <td>0.805293</td>\n",
              "      <td>0.660208</td>\n",
              "      <td>1.000000</td>\n",
              "    </tr>\n",
              "  </tbody>\n",
              "</table>\n",
              "</div>"
            ],
            "text/plain": [
              "                _c0       Lat      Long  Confirmed     Death  Recovered\n",
              "_c0        1.000000 -0.094019 -0.312907  -0.136334 -0.100278  -0.045917\n",
              "Lat       -0.094019  1.000000 -0.383389   0.050988  0.034211   0.003501\n",
              "Long      -0.312907 -0.383389  1.000000   0.128514  0.092183   0.113290\n",
              "Confirmed -0.136334  0.050988  0.128514   1.000000  0.926594   0.805293\n",
              "Death     -0.100278  0.034211  0.092183   0.926594  1.000000   0.660208\n",
              "Recovered -0.045917  0.003501  0.113290   0.805293  0.660208   1.000000"
            ]
          },
          "metadata": {
            "tags": []
          },
          "execution_count": 154
        }
      ]
    },
    {
      "cell_type": "code",
      "metadata": {
        "id": "Lwvfs2fVzpte",
        "colab_type": "code",
        "colab": {}
      },
      "source": [
        "corona_max_df.createOrReplaceTempView('corona')"
      ],
      "execution_count": 155,
      "outputs": []
    },
    {
      "cell_type": "code",
      "metadata": {
        "id": "MWaXHvYQzppU",
        "colab_type": "code",
        "colab": {
          "base_uri": "https://localhost:8080/",
          "height": 459
        },
        "outputId": "a123a142-68b5-4236-9494-9e202c31462b"
      },
      "source": [
        "spark.sql('select * from corona').show()"
      ],
      "execution_count": 157,
      "outputs": [
        {
          "output_type": "stream",
          "text": [
            "+--------------------+--------------------+----------+-----+----------------+--------+---------+---------+-----+---------+----+\n",
            "|             Country|       state_cleaned|      Date|  _c0|           State|     Lat|     Long|Confirmed|Death|Recovered|City|\n",
            "+--------------------+--------------------+----------+-----+----------------+--------+---------+---------+-----+---------+----+\n",
            "|            Thailand|             Bangkok|2020-03-20|27666|            null|    15.0|    101.0|      322|    1|       42|null|\n",
            "|               Japan|             Hiraide|2020-03-20|27667|            null|    36.0|    138.0|      963|   33|      191|null|\n",
            "|           Singapore|           Singapore|2020-03-20|27668|            null|  1.2833| 103.8333|      385|    0|      124|null|\n",
            "|               Nepal|           Kathmandu|2020-03-20|27669|            null| 28.1667|    84.25|        1|    0|        1|null|\n",
            "|            Malaysia|             Sarawak|2020-03-20|27670|            null|     2.5|    112.5|     1030|    3|       87|null|\n",
            "|              Canada|    British Columbia|2020-03-20|27671|British Columbia| 49.2827|-123.1207|      271|    8|        4|null|\n",
            "|           Australia|     New South Wales|2020-03-20|27672| New South Wales|-33.8688| 151.2093|      353|    6|        4|null|\n",
            "|           Australia|            Victoria|2020-03-20|27673|        Victoria|-37.8136| 144.9631|      121|    0|        8|null|\n",
            "|           Australia|          Queensland|2020-03-20|27674|      Queensland|-28.0167|    153.4|      184|    0|        8|null|\n",
            "|            Cambodia|          Phnom Penh|2020-03-20|27675|            null|   11.55| 104.9167|       51|    0|        1|null|\n",
            "|           Sri Lanka|Sri Jayawardenapu...|2020-03-20|27676|            null|     7.0|     81.0|       73|    0|        3|null|\n",
            "|             Germany|              Berlin|2020-03-20|27677|            null|    51.0|      9.0|    19848|   67|      180|null|\n",
            "|             Finland|            Helsinki|2020-03-20|27678|            null|    64.0|     26.0|      450|    0|       10|null|\n",
            "|United Arab Emirates|           Abu Dhabi|2020-03-20|27679|            null|    24.0|     54.0|      140|    2|       31|null|\n",
            "|         Philippines|              Manila|2020-03-20|27680|            null|    13.0|    122.0|      230|   18|        8|null|\n",
            "|               India|           New Delhi|2020-03-20|27681|            null|    21.0|     78.0|      244|    5|       20|null|\n",
            "|               Italy|                Rome|2020-03-20|27682|            null|    43.0|     12.0|    47021| 4032|     4440|null|\n",
            "|              Sweden|           Stockholm|2020-03-20|27683|            null|    63.0|     16.0|     1639|   16|       16|null|\n",
            "|               Spain|              Toledo|2020-03-20|27684|            null|    40.0|     -4.0|    20410| 1043|     1588|null|\n",
            "|           Australia|     South Australia|2020-03-20|27685| South Australia|-34.9285| 138.6007|       50|    0|        3|null|\n",
            "+--------------------+--------------------+----------+-----+----------------+--------+---------+---------+-----+---------+----+\n",
            "only showing top 20 rows\n",
            "\n"
          ],
          "name": "stdout"
        }
      ]
    },
    {
      "cell_type": "code",
      "metadata": {
        "id": "l9rrw2Yzzpkr",
        "colab_type": "code",
        "colab": {
          "base_uri": "https://localhost:8080/",
          "height": 442
        },
        "outputId": "2f1ebc7c-514c-49c3-f2f9-0dab5c4b6df3"
      },
      "source": [
        "spark.sql('select * from corona where country in (\"Australia\",\"Canada\") order by country').show()"
      ],
      "execution_count": 159,
      "outputs": [
        {
          "output_type": "stream",
          "text": [
            "+---------+--------------------+----------+-----+--------------------+------------------+---------+---------+-----+---------+----+\n",
            "|  Country|       state_cleaned|      Date|  _c0|               State|               Lat|     Long|Confirmed|Death|Recovered|City|\n",
            "+---------+--------------------+----------+-----+--------------------+------------------+---------+---------+-----+---------+----+\n",
            "|Australia|     New South Wales|2020-03-20|27672|     New South Wales|          -33.8688| 151.2093|      353|    6|        4|null|\n",
            "|Australia|            Victoria|2020-03-20|27673|            Victoria|          -37.8136| 144.9631|      121|    0|        8|null|\n",
            "|Australia|   Western Australia|2020-03-20|27715|   Western Australia|          -31.9505| 115.8605|       64|    1|        0|null|\n",
            "|Australia|          Queensland|2020-03-20|27674|          Queensland|          -28.0167|    153.4|      184|    0|        8|null|\n",
            "|Australia|            Tasmania|2020-03-20|27727|            Tasmania|          -41.4545| 145.9707|       10|    0|        3|null|\n",
            "|Australia|  Northern Territory|2020-03-20|27737|  Northern Territory|          -12.4634| 130.8456|        3|    0|        0|null|\n",
            "|Australia|     South Australia|2020-03-20|27685|     South Australia|          -34.9285| 138.6007|       50|    0|        3|null|\n",
            "|Australia|Australian Capita...|2020-03-20|28068|Australian Capita...|          -35.4735| 149.0124|        6|    0|        0|null|\n",
            "|Australia|From Diamond Prin...|2020-03-20|27688|From Diamond Prin...|           35.4437|  139.638|        0|    0|        0|null|\n",
            "|   Canada|    British Columbia|2020-03-20|27671|    British Columbia|           49.2827|-123.1207|      271|    8|        4|null|\n",
            "|   Canada|             Ontario|2020-03-20|27758|             Ontario|           51.2538| -85.3232|      308|    2|        5|null|\n",
            "|   Canada|             Alberta|2020-03-20|27759|             Alberta|           53.9333|-116.5765|      146|    1|        0|null|\n",
            "|   Canada|        Saskatchewan|2020-03-20|28073|        Saskatchewan|           52.9399|-106.4509|       20|    0|        0|null|\n",
            "|   Canada|         Nova Scotia|2020-03-20|28107|         Nova Scotia|44.681999999999995| -63.7443|       15|    0|        0|null|\n",
            "|   Canada|              Quebec|2020-03-20|27760|              Quebec|           52.9399| -73.5491|      139|    1|        0|null|\n",
            "|   Canada|       New Brunswick|2020-03-20|27867|       New Brunswick|           46.5653| -66.4619|       11|    0|        0|null|\n",
            "|   Canada|      Grand Princess|2020-03-20|28077|      Grand Princess|           37.6489|-122.6655|       10|    0|        0|null|\n",
            "|   Canada|Newfoundland and ...|2020-03-20|28099|Newfoundland and ...|           53.1355| -57.6604|        4|    0|        0|null|\n",
            "|   Canada|            Manitoba|2020-03-20|28072|            Manitoba|           53.7609| -98.8139|       17|    0|        0|null|\n",
            "|   Canada|Prince Edward Island|2020-03-20|28100|Prince Edward Island|           46.5107| -63.4168|        2|    0|        0|null|\n",
            "+---------+--------------------+----------+-----+--------------------+------------------+---------+---------+-----+---------+----+\n",
            "\n"
          ],
          "name": "stdout"
        }
      ]
    },
    {
      "cell_type": "code",
      "metadata": {
        "id": "QtoQ-WwczpeA",
        "colab_type": "code",
        "colab": {
          "base_uri": "https://localhost:8080/",
          "height": 459
        },
        "outputId": "6ac1dde6-2ce1-4b84-dea7-b3e368edd7a6"
      },
      "source": [
        "spark.sql(\"select country,state_cleaned,sum(confirmed), sum(recovered) from corona where country in('Australia','Canada') group by rollup (country,state_cleaned) order by country\").show()"
      ],
      "execution_count": 160,
      "outputs": [
        {
          "output_type": "stream",
          "text": [
            "+---------+--------------------+--------------+--------------+\n",
            "|  country|       state_cleaned|sum(confirmed)|sum(recovered)|\n",
            "+---------+--------------------+--------------+--------------+\n",
            "|     null|                null|          1734|            35|\n",
            "|Australia|          Queensland|           184|             8|\n",
            "|Australia|     New South Wales|           353|             4|\n",
            "|Australia|Australian Capita...|             6|             0|\n",
            "|Australia|   Western Australia|            64|             0|\n",
            "|Australia|            Tasmania|            10|             3|\n",
            "|Australia|            Victoria|           121|             8|\n",
            "|Australia|                null|           791|            26|\n",
            "|Australia|  Northern Territory|             3|             0|\n",
            "|Australia|From Diamond Prin...|             0|             0|\n",
            "|Australia|     South Australia|            50|             3|\n",
            "|   Canada|            Manitoba|            17|             0|\n",
            "|   Canada|             Alberta|           146|             0|\n",
            "|   Canada|       New Brunswick|            11|             0|\n",
            "|   Canada|              Quebec|           139|             0|\n",
            "|   Canada|Newfoundland and ...|             4|             0|\n",
            "|   Canada|      Grand Princess|            10|             0|\n",
            "|   Canada|Prince Edward Island|             2|             0|\n",
            "|   Canada|         Nova Scotia|            15|             0|\n",
            "|   Canada|             Ontario|           308|             5|\n",
            "+---------+--------------------+--------------+--------------+\n",
            "only showing top 20 rows\n",
            "\n"
          ],
          "name": "stdout"
        }
      ]
    },
    {
      "cell_type": "code",
      "metadata": {
        "id": "i9rFE4zU1pDF",
        "colab_type": "code",
        "colab": {
          "base_uri": "https://localhost:8080/",
          "height": 459
        },
        "outputId": "330b4851-f0d5-4ccf-f058-2df5f39d8877"
      },
      "source": [
        "spark.sql(\"select country,state_cleaned,sum(confirmed), sum(recovered) from corona where country in('Australia','Canada') group by cube (country,state_cleaned) order by country\").show()"
      ],
      "execution_count": 161,
      "outputs": [
        {
          "output_type": "stream",
          "text": [
            "+-------+--------------------+--------------+--------------+\n",
            "|country|       state_cleaned|sum(confirmed)|sum(recovered)|\n",
            "+-------+--------------------+--------------+--------------+\n",
            "|   null|       New Brunswick|            11|             0|\n",
            "|   null|     New South Wales|           353|             4|\n",
            "|   null|            Victoria|           121|             8|\n",
            "|   null|         Nova Scotia|            15|             0|\n",
            "|   null|Australian Capita...|             6|             0|\n",
            "|   null|      Grand Princess|            10|             0|\n",
            "|   null|     South Australia|            50|             3|\n",
            "|   null|          Queensland|           184|             8|\n",
            "|   null|        Saskatchewan|            20|             0|\n",
            "|   null|Newfoundland and ...|             4|             0|\n",
            "|   null|   Western Australia|            64|             0|\n",
            "|   null|            Tasmania|            10|             3|\n",
            "|   null|  Northern Territory|             3|             0|\n",
            "|   null|    British Columbia|           271|             4|\n",
            "|   null|From Diamond Prin...|             0|             0|\n",
            "|   null|             Alberta|           146|             0|\n",
            "|   null|             Ontario|           308|             5|\n",
            "|   null|            Manitoba|            17|             0|\n",
            "|   null|Prince Edward Island|             2|             0|\n",
            "|   null|                null|          1734|            35|\n",
            "+-------+--------------------+--------------+--------------+\n",
            "only showing top 20 rows\n",
            "\n"
          ],
          "name": "stdout"
        }
      ]
    }
  ]
}